{
 "cells": [
  {
   "cell_type": "code",
   "execution_count": null,
   "metadata": {},
   "outputs": [],
   "source": [
    "from rda_package import rda\n",
    "print(rda.venn.__doc__)"
   ]
  },
  {
   "cell_type": "code",
   "execution_count": null,
   "metadata": {},
   "outputs": [],
   "source": [
    "from rda_package import rda\n",
    "import pandas as pd\n",
    "import numpy as np\n",
    "import re\n",
    "FILENAME='df_RNA.csv'\n",
    "rda.cycMouseLiverRNA(FILENAME)\n",
    "rda.meta2d(FILENAME)\n",
    "rda.rain(FILENAME)\n",
    "rda.cosinorpy(FILENAME)\n",
    "rda.pValues(filename=FILENAME)\n",
    "rda.venn(FILENAME)"
   ]
  },
  {
   "cell_type": "code",
   "execution_count": null,
   "metadata": {},
   "outputs": [],
   "source": [
    "from rda_package import rda \n",
    "import pandas as pd\n",
    "df=pd.read_csv('spreadsheet.txt', sep='\\t',index_col=None)\n",
    "df=df.drop('geneID',axis=1)\n",
    "dfn=df\n",
    "dfd=df\n",
    "colnames=df.columns.to_list()\n",
    "for i in range(len(colnames)):\n",
    "    if colnames[i][0]=='N':\n",
    "        dfd=dfd.drop(colnames[i],axis=1)\n",
    "    else:\n",
    "        dfn=dfn.drop(colnames[i],axis=1)\n",
    "\n",
    "FILENAME='df_sday.csv'\n",
    "dfd.to_csv(FILENAME)\n",
    "rda.meta2dFormat(FILENAME)\n",
    "rda.meta2d(FILENAME,'csv','line1')\n",
    "rda.cosinorpy(FILENAME)\n",
    "rda.rain(FILENAME,4,4)\n",
    "rda.pValues(FILENAME)\n",
    "rda.venn(FILENAME)\n",
    "FILENAME='df_snight.csv'\n",
    "dfd.to_csv(FILENAME)\n",
    "rda.meta2dFormat(FILENAME)\n",
    "rda.meta2d(FILENAME,'csv','line1')\n",
    "rda.cosinorpy(FILENAME)\n",
    "rda.rain(FILENAME,4,4)\n",
    "rda.pValues(FILENAME)\n",
    "rda.venn(FILENAME)"
   ]
  },
  {
   "cell_type": "code",
   "execution_count": null,
   "metadata": {},
   "outputs": [],
   "source": [
    "from rda_package import rda \n",
    "import pandas as pd\n",
    "import numpy as np\n",
    "import re\n",
    "FILENAME='df_seqML.csv'\n",
    "rda.menetRNASeqMouseLiver(FILENAME)\n",
    "rda.meta2dFormat(FILENAME)\n",
    "rda.meta2d(FILENAME)\n",
    "rda.rain(FILENAME)\n",
    "rda.cosinorpy(FILENAME)\n",
    "rda.venn(FILENAME)\n",
    "rda.pValues(FILENAME)"
   ]
  },
  {
   "cell_type": "code",
   "execution_count": null,
   "metadata": {},
   "outputs": [],
   "source": [
    "from rda_package import rda \n",
    "import pandas as pd\n",
    "import numpy as np\n",
    "import re\n",
    "FILENAME='df_sRhD.csv'\n",
    "rda.syntRhythmicData(FILENAME,4,1,0)\n",
    "rda.meta2d(FILENAME)\n",
    "rda.rain(FILENAME,sampleRate=2,nbReplicate=3)\n",
    "rda.cosinorpy(FILENAME)\n",
    "rda.pValues(filename=FILENAME)\n",
    "rda.venn(FILENAME)"
   ]
  },
  {
   "cell_type": "code",
   "execution_count": null,
   "metadata": {},
   "outputs": [],
   "source": [
    "from rda_package import rda \n",
    "import pandas as pd\n",
    "import numpy as np\n",
    "import re\n",
    "FILENAME='df_sRaD.csv'\n",
    "rda.syntRandomData(FILENAME,4,1,0)\n",
    "rda.meta2d(FILENAME)\n",
    "rda.rain(FILENAME,sampleRate=2,nbReplicate=3)\n",
    "rda.cosinorpy(FILENAME)\n",
    "rda.pValues(filename=FILENAME)\n",
    "rda.venn(FILENAME)"
   ]
  }
 ],
 "metadata": {
  "interpreter": {
   "hash": "767c48a64caae0be89fa7f8f777746ad491056046165076895ba67746a6851de"
  },
  "kernelspec": {
   "display_name": "Python 3.10.4 64-bit",
   "language": "python",
   "name": "python3"
  },
  "language_info": {
   "codemirror_mode": {
    "name": "ipython",
    "version": 3
   },
   "file_extension": ".py",
   "mimetype": "text/x-python",
   "name": "python",
   "nbconvert_exporter": "python",
   "pygments_lexer": "ipython3",
   "version": "3.10.4"
  },
  "orig_nbformat": 4
 },
 "nbformat": 4,
 "nbformat_minor": 2
}
