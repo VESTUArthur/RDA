{
 "cells": [
  {
   "cell_type": "code",
   "execution_count": null,
   "metadata": {},
   "outputs": [],
   "source": [
    "from CosinorPy import file_parser, cosinor, cosinor1\n",
    "import numpy as np\n",
    "import pandas as pd\n",
    "import os"
   ]
  },
  {
   "cell_type": "code",
   "execution_count": null,
   "metadata": {},
   "outputs": [],
   "source": [
    " os.makedirs('CosinorPyOut', exist_ok=True)"
   ]
  },
  {
   "cell_type": "code",
   "execution_count": null,
   "metadata": {},
   "outputs": [],
   "source": [
    "df = file_parser.generate_test_data(phase = 0, n_components = 1, name=\"test1\", noise=0.5, replicates = 3)\n",
    "df2 = file_parser.generate_test_data(phase = np.pi, n_components = 1, name=\"test2\", noise=0.5, replicates = 3)\n",
    "df = df.append(df2, ignore_index=True)\n",
    "\n",
    "df2 = file_parser.generate_test_data(phase = 0, n_components = 3, name=\"test3\", noise=0.5, replicates = 3, time_step=1)\n",
    "df = df.append(df2, ignore_index=True)\n",
    "df2 = file_parser.generate_test_data(phase = np.pi, n_components = 3, name=\"test4\", noise=0.5, replicates = 3, time_step=1)\n",
    "df = df.append(df2, ignore_index=True)\n",
    "df.head(10)"
   ]
  },
  {
   "cell_type": "code",
   "execution_count": null,
   "metadata": {},
   "outputs": [],
   "source": [
    "df.groupby('test').describe()\n"
   ]
  },
  {
   "cell_type": "code",
   "execution_count": null,
   "metadata": {},
   "outputs": [],
   "source": [
    "df[df['test']=='test1'].x"
   ]
  },
  {
   "cell_type": "code",
   "execution_count": null,
   "metadata": {},
   "outputs": [],
   "source": [
    "cosinor.periodogram_df(df)"
   ]
  },
  {
   "cell_type": "code",
   "execution_count": null,
   "metadata": {},
   "outputs": [],
   "source": [
    "df_results = cosinor.fit_group(df, n_components = [1,2,3], period=24)"
   ]
  }
 ],
 "metadata": {
  "interpreter": {
   "hash": "894588d70223105318f3a6143f469ff55b12e3d45628534b2f37efc006a33ec3"
  },
  "kernelspec": {
   "display_name": "Python 3.9.7 64-bit",
   "language": "python",
   "name": "python3"
  },
  "language_info": {
   "codemirror_mode": {
    "name": "ipython",
    "version": 3
   },
   "file_extension": ".py",
   "mimetype": "text/x-python",
   "name": "python",
   "nbconvert_exporter": "python",
   "pygments_lexer": "ipython3",
   "version": "3.10.4"
  },
  "orig_nbformat": 4
 },
 "nbformat": 4,
 "nbformat_minor": 2
}
