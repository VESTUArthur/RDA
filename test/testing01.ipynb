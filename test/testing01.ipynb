{
 "cells": [
  {
   "cell_type": "markdown",
   "metadata": {},
   "source": [
    "# Testing on synthetic data\n",
    "Models evaluation on synthetic rhythmic data with:\n",
    "- A single component (n_components=1)\n",
    "- Different levels of noise (0, 0.2, 0.5, O.8, 1)\n",
    "- Replicates as 1 since ARS oly work when there isn't replicates\n",
    "- We create 1000 line by file\n",
    "\n"
   ]
  },
  {
   "cell_type": "code",
   "execution_count": null,
   "metadata": {},
   "outputs": [],
   "source": [
    "#import\n",
    "from rda_package import rda \n",
    "import pandas as pd\n",
    "import numpy as np\n",
    "import re\n",
    "N_TEST=1000\n",
    "N_COMPONENTS=1\n",
    "REPLICATES=1"
   ]
  },
  {
   "cell_type": "markdown",
   "metadata": {},
   "source": [
    "Synthetic rhythmic data with a single component and noise level of 0 :"
   ]
  },
  {
   "cell_type": "code",
   "execution_count": null,
   "metadata": {},
   "outputs": [],
   "source": [
    "FILENAME='test_sRhD_c1_n00.csv'\n",
    "NOISE=0\n",
    "rda.syntRhythmicData(FILENAME,n_test=N_TEST,n_components=N_COMPONENTS,noise=NOISE,replicates=REPLICATES)\n",
    "rda.meta2d(FILENAME)\n",
    "rda.rain(FILENAME,sampleRate=2,nbReplicate=REPLICATES)\n",
    "rda.cosinorpy(FILENAME)\n",
    "rda.pValues(filename=FILENAME)\n",
    "rda.venn(FILENAME)"
   ]
  },
  {
   "cell_type": "markdown",
   "metadata": {},
   "source": [
    "Synthetic rhythmic data with a single component and noise level of 0.2 :"
   ]
  },
  {
   "cell_type": "code",
   "execution_count": null,
   "metadata": {},
   "outputs": [],
   "source": [
    "FILENAME='test_sRhD_c1_n02.csv'\n",
    "NOISE=0.2\n",
    "rda.syntRhythmicData(FILENAME,n_test=N_TEST,n_components=N_COMPONENTS,noise=NOISE,replicates=REPLICATES)\n",
    "rda.meta2d(FILENAME)\n",
    "rda.rain(FILENAME,sampleRate=2,nbReplicate=REPLICATES)\n",
    "rda.cosinorpy(FILENAME)\n",
    "rda.pValues(filename=FILENAME)\n",
    "rda.venn(FILENAME)"
   ]
  },
  {
   "cell_type": "markdown",
   "metadata": {},
   "source": [
    "Synthetic rhythmic data with a single component and noise level of 0.5 :"
   ]
  },
  {
   "cell_type": "code",
   "execution_count": null,
   "metadata": {},
   "outputs": [],
   "source": [
    "FILENAME='test_sRhD_c1_n05.csv'\n",
    "NOISE=0.5\n",
    "rda.syntRhythmicData(FILENAME,n_test=N_TEST,n_components=N_COMPONENTS,noise=NOISE,replicates=REPLICATES)\n",
    "rda.meta2d(FILENAME)\n",
    "rda.rain(FILENAME,sampleRate=2,nbReplicate=REPLICATES)\n",
    "rda.cosinorpy(FILENAME)\n",
    "rda.pValues(filename=FILENAME)\n",
    "rda.venn(FILENAME)"
   ]
  },
  {
   "cell_type": "markdown",
   "metadata": {},
   "source": [
    "Synthetic rhythmic data with a single component and noise level of 0.8 :"
   ]
  },
  {
   "cell_type": "code",
   "execution_count": null,
   "metadata": {},
   "outputs": [],
   "source": [
    "FILENAME='test_sRhD_c1_n08.csv'\n",
    "NOISE=0.8\n",
    "rda.syntRhythmicData(FILENAME,n_test=N_TEST,n_components=N_COMPONENTS,noise=NOISE,replicates=REPLICATES)\n",
    "rda.meta2d(FILENAME)\n",
    "rda.rain(FILENAME,sampleRate=2,nbReplicate=REPLICATES)\n",
    "rda.cosinorpy(FILENAME)\n",
    "rda.pValues(filename=FILENAME)\n",
    "rda.venn(FILENAME)"
   ]
  },
  {
   "cell_type": "markdown",
   "metadata": {},
   "source": [
    "Synthetic rhythmic data with a single component and noise level of 1 :"
   ]
  },
  {
   "cell_type": "code",
   "execution_count": null,
   "metadata": {},
   "outputs": [],
   "source": [
    "FILENAME='test_sRhD_c1_n10.csv'\n",
    "NOISE=1\n",
    "rda.syntRhythmicData(FILENAME,n_test=N_TEST,n_components=N_COMPONENTS,noise=NOISE,replicates=REPLICATES)\n",
    "rda.meta2d(FILENAME)\n",
    "rda.rain(FILENAME,sampleRate=2,nbReplicate=REPLICATES)\n",
    "rda.cosinorpy(FILENAME)\n",
    "rda.pValues(filename=FILENAME)\n",
    "rda.venn(FILENAME)"
   ]
  },
  {
   "cell_type": "markdown",
   "metadata": {},
   "source": [
    "Controle data :"
   ]
  },
  {
   "cell_type": "code",
   "execution_count": null,
   "metadata": {},
   "outputs": [],
   "source": [
    "FILENAME='test_sRnD_c1.csv'\n",
    "rda.syntRandomData(FILENAME,n_test=N_TEST,n_components=N_COMPONENTS,replicates=REPLICATES)\n",
    "rda.meta2d(FILENAME)\n",
    "rda.rain(FILENAME,sampleRate=2,nbReplicate=REPLICATES)\n",
    "rda.cosinorpy(FILENAME)\n",
    "rda.pValues(filename=FILENAME)\n",
    "rda.venn(FILENAME)"
   ]
  }
 ],
 "metadata": {
  "interpreter": {
   "hash": "767c48a64caae0be89fa7f8f777746ad491056046165076895ba67746a6851de"
  },
  "kernelspec": {
   "display_name": "Python 3.10.4 64-bit",
   "language": "python",
   "name": "python3"
  },
  "language_info": {
   "codemirror_mode": {
    "name": "ipython",
    "version": 3
   },
   "file_extension": ".py",
   "mimetype": "text/x-python",
   "name": "python",
   "nbconvert_exporter": "python",
   "pygments_lexer": "ipython3",
   "version": "3.10.4"
  },
  "orig_nbformat": 4
 },
 "nbformat": 4,
 "nbformat_minor": 2
}
