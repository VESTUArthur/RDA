{
 "cells": [
  {
   "cell_type": "code",
   "execution_count": null,
   "metadata": {},
   "outputs": [],
   "source": [
    "from metacycle import Metacycle as mc\n",
    "print(mc.cosinor.__doc__)"
   ]
  },
  {
   "cell_type": "code",
   "execution_count": null,
   "metadata": {},
   "outputs": [],
   "source": [
    "from metacycle import Metacycle as mc\n",
    "import pandas as pd\n",
    "import numpy as np\n",
    "import re\n",
    "FILENAME='df.csv'\n",
    "mc.cycMouseLiverRNA(FILENAME)\n",
    "mc.meta2d(FILENAME)\n",
    "mc.rain(FILENAME)\n",
    "mc.cosinor(FILENAME)\n",
    "mc.pValues(filename=FILENAME)"
   ]
  },
  {
   "cell_type": "code",
   "execution_count": null,
   "metadata": {},
   "outputs": [],
   "source": [
    "from metacycle import Metacycle as mc\n",
    "import pandas as pd\n",
    "df=pd.read_csv('spreadsheet.txt', sep='\\t',index_col=None)\n",
    "df=df.drop('geneID',axis=1)\n",
    "dfn=df\n",
    "dfd=df\n",
    "colnames=df.columns.to_list()\n",
    "for i in range(len(colnames)):\n",
    "    if colnames[i][0]=='N':\n",
    "        dfd=dfd.drop(colnames[i],axis=1)\n",
    "    else:\n",
    "        dfn=dfn.drop(colnames[i],axis=1)\n",
    "dfd.to_csv('dfd.csv')\n",
    "dfn.to_csv('dfn.csv')\n",
    "FILENAME='dfd.csv'\n",
    "mc.meta2dFormat(FILENAME)\n",
    "mc.meta2d(FILENAME,'csv','line1')\n",
    "mc.cosinor(FILENAME)\n",
    "mc.rain(FILENAME,4,4)\n",
    "mc.pValues(FILENAME)\n",
    "FILENAME='dfn.csv'\n",
    "mc.meta2dFormat(FILENAME)\n",
    "mc.meta2d(FILENAME,'csv','line1')\n",
    "mc.cosinor(FILENAME)\n",
    "mc.rain(FILENAME,4,4)\n",
    "mc.pValues(FILENAME)\n"
   ]
  },
  {
   "cell_type": "code",
   "execution_count": null,
   "metadata": {},
   "outputs": [],
   "source": [
    "from metacycle import Metacycle as mc\n",
    "import pandas as pd\n",
    "import numpy as np\n",
    "import re\n",
    "FILENAME='data.csv'\n",
    "mc.menetRNASeqMouseLiver(FILENAME)\n",
    "mc.meta2dFormat(FILENAME)\n",
    "mc.meta2d(FILENAME)\n",
    "mc.rain(FILENAME)\n",
    "mc.cosinor(FILENAME)\n",
    "mc.pValues(filename=FILENAME)"
   ]
  }
 ],
 "metadata": {
  "interpreter": {
   "hash": "767c48a64caae0be89fa7f8f777746ad491056046165076895ba67746a6851de"
  },
  "kernelspec": {
   "display_name": "Python 3.10.4 64-bit",
   "language": "python",
   "name": "python3"
  },
  "language_info": {
   "codemirror_mode": {
    "name": "ipython",
    "version": 3
   },
   "file_extension": ".py",
   "mimetype": "text/x-python",
   "name": "python",
   "nbconvert_exporter": "python",
   "pygments_lexer": "ipython3",
   "version": "3.10.4"
  },
  "orig_nbformat": 4
 },
 "nbformat": 4,
 "nbformat_minor": 2
}
