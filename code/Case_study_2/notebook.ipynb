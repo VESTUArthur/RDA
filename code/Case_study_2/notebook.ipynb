{
 "cells": [
  {
   "cell_type": "markdown",
   "metadata": {},
   "source": [
    "# Case Study 2 : Google Traffic Analysis"
   ]
  },
  {
   "cell_type": "markdown",
   "metadata": {},
   "source": [
    "Steps :\n",
    "- Make Meta2d and Cosinor analysis\n",
    "- Plot Peaks\n",
    "- Make Signal Analysis with pyBOAT\n",
    "- Try using Rain"
   ]
  },
  {
   "cell_type": "code",
   "execution_count": null,
   "metadata": {},
   "outputs": [],
   "source": [
    "#import\n",
    "from rda_package import rda \n",
    "import pandas as pd\n",
    "import numpy as np\n",
    "import matplotlib.pyplot as plt\n",
    "import seaborn as sns\n",
    "from CosinorPy import file_parser,cosinor"
   ]
  },
  {
   "cell_type": "markdown",
   "metadata": {},
   "source": [
    "## Make Meta2d and Cosinor analysis"
   ]
  },
  {
   "cell_type": "code",
   "execution_count": null,
   "metadata": {},
   "outputs": [],
   "source": [
    "filename= 'google_traffic_workdays.xlsx'\n",
    "df = rda.cosinor_read(filename)\n",
    "df['x']=df['x']*60\n",
    "rda.export_csv(df,filename)\n",
    "filename= f'{filename[:-5]}.csv'"
   ]
  },
  {
   "cell_type": "code",
   "execution_count": null,
   "metadata": {},
   "outputs": [],
   "source": [
    "rda.cosinorpy(filename,sep='\\t',period=24*60,n_components=3)\n",
    "rda.cosinor1py(filename,sep='\\t',period=24*60)"
   ]
  },
  {
   "cell_type": "code",
   "execution_count": null,
   "metadata": {},
   "outputs": [],
   "source": [
    "print(filename)\n",
    "rda.meta2d_format(filename=filename,sep='\\t')\n",
    "filename=f\"Out/{filename[:-4]}/{filename[:-4]}.csv\"\n",
    "rda.meta2d(filename=filename)"
   ]
  },
  {
   "cell_type": "markdown",
   "metadata": {},
   "source": [
    "## Plot Peaks"
   ]
  },
  {
   "cell_type": "code",
   "execution_count": null,
   "metadata": {},
   "outputs": [],
   "source": [
    "#function\n",
    "def plot_peaks(df,filename):\n",
    "    names = df.test.unique()\n",
    "    print(names)\n",
    "    models_peak = [{\"Path\":f\"Out/{filename[:-4]}/cosinorpyout/COSINORresult_{filename[:-4]}.csv\",\"x_peak\":\"peaks\",\"y_peak\":\"heights\",\"label\":\"test\",\"model\":\"cosinor\"}]\n",
    "    models_peak.append({\"Path\":f\"Out/{filename[:-4]}/metaout/LSresult_{filename[:-4]}.csv\",\"x_peak\":\"PeakSPD\",\"y_peak\":\"PhaseShiftHeight\",\"label\":\"CycID\",\"model\":\"LS\"})\n",
    "    models_peak.append({\"Path\":f\"Out/{filename[:-4]}/cosinorpyout/COSINOR1result_{filename[:-4]}.csv\",\"x_peak\":\"acrophase[h]\",\"y_peak\":\"amplitude\",\"label\":\"test\",\"model\":\"cosinor1\"})\n",
    "    models_peak.append({\"Path\":f\"Out/{filename[:-4]}/cosinorpyout/COSINOR1result_{filename[:-4]}.csv\",\"x_peak\":\"acrophase[h]\",\"y_peak\":\"amplitude\",\"label\":\"test\",\"model\":\"cosinor1_MESOR\"})\n",
    "    models_peak.append({\"Path\":f\"Out/{filename[:-4]}/metaout/JTKresult_{filename[:-4]}.csv\",\"x_peak\":\"LAG\",\"y_peak\":\"AMP\",\"label\":\"CycID\",\"model\":\"JTK\"})\n",
    "    models_peak.append({\"Path\":f\"Out/{filename[:-4]}/metaout/JTKresult_{filename[:-4]}.csv\",\"x_peak\":\"LAG\",\"y_peak\":\"AMP\",\"label\":\"CycID\",\"model\":\"JTK_MESOR\"})\n",
    "    for name in names:\n",
    "        ncols = 2\n",
    "        nrows = 3\n",
    "        fig, axes = plt.subplots(ncols = ncols, nrows = nrows, sharey=False)\n",
    "        axes = axes.flatten()         \n",
    "        fig.set_size_inches(10, 10)\n",
    "        sns.set_style(\"white\")\n",
    "        flatui = ['#d9d9d9','#bdbdbd','#969696','#737373','#525252','#252525']\n",
    "        mesor= df[ df['test']==name].y.mean()\n",
    "        for ax,model in zip(axes,models_peak):\n",
    "            print(name,model.get(\"model\"))\n",
    "            path=model.get(\"Path\")\n",
    "            df_peaks=pd.read_csv(path)\n",
    "            dff=df[df['test']==name]\n",
    "            df_peak=df_peaks[df_peaks[model.get(\"label\")]==name]\n",
    "            x_peak= str(df_peak[model.get(\"x_peak\")].iloc[0]).strip('][').split(' ')\n",
    "            y_peak=str(df_peak[model.get(\"y_peak\")].iloc[0]).strip('][').split(' ')\n",
    "            while(\"\" in x_peak) :\n",
    "                x_peak.remove(\"\")\n",
    "            while(\"\" in y_peak) :\n",
    "                y_peak.remove(\"\")\n",
    "            if(model.get(\"x_peak\")==\"LAG\"):\n",
    "                x_peak= [float(x)*60 if float(x)>0 else -float(x) for x in x_peak]\n",
    "            else:\n",
    "                x_peak= [float(x) if float(x)>0 else -float(x) for x in x_peak]\n",
    "            print('x_peak:',x_peak,model.get(\"x_peak\"))\n",
    "            if model.get(\"model\").split('_')[-1]=='MESOR':\n",
    "                y_peak= [float(y)+mesor for y in y_peak]\n",
    "            else:\n",
    "                y_peak= [float(y) for y in y_peak]\n",
    "            print('y_peak:',y_peak,model.get(\"y_peak\"))\n",
    "            sns.color_palette(flatui)\n",
    "            sns.lineplot(data=dff,x='x',y='y',ax=ax,color = 'black')\n",
    "            ax.set_xlabel(f'{model.get(\"x_peak\")} ({model.get(\"model\")})')\n",
    "            ax.set_ylabel(f'{model.get(\"y_peak\")} ({model.get(\"model\")})')\n",
    "            ax.plot(x_peak,y_peak,'ko')\n",
    "        plt.suptitle(f\"Peaks Plot\")\n",
    "        fig.subplots_adjust(top=0.95)\n",
    "        plt.savefig(f\"Out/{filename[:-4]}/Peaks_plot_{name}.png\", bbox_inches=\"tight\", facecolor='white')\n",
    "        plt.show()"
   ]
  },
  {
   "cell_type": "markdown",
   "metadata": {},
   "source": [
    "Make peaks of google traffic workdays"
   ]
  },
  {
   "cell_type": "code",
   "execution_count": null,
   "metadata": {},
   "outputs": [],
   "source": [
    "filename='google_traffic_workdays.xlsx'\n",
    "df = rda.cosinor_read(filename)\n",
    "df['x']=df['x']*60\n",
    "filename = f'{filename[:-5]}.csv'\n",
    "plot_peaks(df,filename=filename)"
   ]
  },
  {
   "cell_type": "markdown",
   "metadata": {},
   "source": [
    "Make peaks of google traffic"
   ]
  },
  {
   "cell_type": "code",
   "execution_count": null,
   "metadata": {},
   "outputs": [],
   "source": [
    "filename='google_traffic.xlsx'\n",
    "df = rda.cosinor_read(filename)\n",
    "df['x']=df['x']*60\n",
    "filename = f'{filename[:-5]}.csv'\n",
    "plot_peaks(df,filename=filename)"
   ]
  },
  {
   "cell_type": "markdown",
   "metadata": {},
   "source": [
    "## Make Signal Analysis with pyBOAT"
   ]
  },
  {
   "cell_type": "code",
   "execution_count": null,
   "metadata": {},
   "outputs": [],
   "source": [
    "#import\n",
    "from rda_package import rda \n",
    "import pandas as pd\n",
    "import numpy as np\n",
    "import matplotlib.pyplot as plt\n",
    "import seaborn as sns\n",
    "from CosinorPy import file_parser,cosinor\n",
    "filename='google_traffic.csv'\n",
    "print(filename)\n",
    "df = pd.read_csv(filename,sep='\\t',index_col=0)\n",
    "df_norep = df.index.to_series()\n",
    "for i in range(0,1421,10):\n",
    "    avg_filter = df.filter(regex=f'T{i}').mean(axis = 1)\n",
    "    avg_filter.name = i\n",
    "    df_norep = pd.merge(df_norep, avg_filter,left_index=True,right_index=True)\n",
    "df_norep=df_norep.drop('gene',axis=1)"
   ]
  },
  {
   "cell_type": "code",
   "execution_count": null,
   "metadata": {},
   "outputs": [],
   "source": [
    "df_ridge1 = rda.analysis(df_norep,filename=filename,time_unit_label='minutes')"
   ]
  },
  {
   "cell_type": "markdown",
   "metadata": {},
   "source": [
    "## Try Rain"
   ]
  },
  {
   "cell_type": "code",
   "execution_count": null,
   "metadata": {},
   "outputs": [],
   "source": [
    "#import\n",
    "from rda_package import rda \n",
    "import pandas as pd\n",
    "import numpy as np\n",
    "import matplotlib.pyplot as plt\n",
    "import seaborn as sns\n",
    "from CosinorPy import file_parser,cosinor\n",
    "filename='google_traffic_workdays.csv'\n",
    "print(filename)\n",
    "df = pd.read_csv(filename,sep='\\t',index_col=0)\n",
    "df_norep = df.index.to_series()\n",
    "for i in range(0,1421,10):\n",
    "    avg_filter = df.filter(regex=f'T{i}').mean(axis = 1)\n",
    "    avg_filter.name = i\n",
    "    df_norep = pd.merge(df_norep, avg_filter,left_index=True,right_index=True)\n",
    "df_norep=df_norep.drop('gene',axis=1)\n",
    "df_norep.to_csv('norep_'+filename)"
   ]
  },
  {
   "cell_type": "code",
   "execution_count": null,
   "metadata": {},
   "outputs": [],
   "source": [
    "rda.rain(filename='norep_'+filename,sample_rate=10,n_replicate=1,period=1440)"
   ]
  }
 ],
 "metadata": {
  "interpreter": {
   "hash": "767c48a64caae0be89fa7f8f777746ad491056046165076895ba67746a6851de"
  },
  "kernelspec": {
   "display_name": "Python 3.10.4 64-bit",
   "language": "python",
   "name": "python3"
  },
  "language_info": {
   "codemirror_mode": {
    "name": "ipython",
    "version": 3
   },
   "file_extension": ".py",
   "mimetype": "text/x-python",
   "name": "python",
   "nbconvert_exporter": "python",
   "pygments_lexer": "ipython3",
   "version": "3.10.4"
  },
  "orig_nbformat": 4
 },
 "nbformat": 4,
 "nbformat_minor": 2
}
