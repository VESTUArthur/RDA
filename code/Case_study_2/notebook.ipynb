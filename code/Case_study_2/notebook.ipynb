{
 "cells": [
  {
   "cell_type": "code",
   "execution_count": null,
   "metadata": {},
   "outputs": [],
   "source": [
    "#import\n",
    "from rda_package import rda \n",
    "import pandas as pd\n",
    "import numpy as np\n",
    "import matplotlib.pyplot as plt\n",
    "import seaborn as sns\n",
    "from CosinorPy import file_parser,cosinor"
   ]
  },
  {
   "cell_type": "code",
   "execution_count": null,
   "metadata": {},
   "outputs": [],
   "source": [
    "filename= 'google_traffic_workdays.xlsx'\n",
    "df = rda.cosinor_read(filename)\n",
    "df['x']=df['x']*60\n",
    "rda.export_csv(df,filename)\n",
    "filename= f'{filename[:-5]}.csv'"
   ]
  },
  {
   "cell_type": "code",
   "execution_count": null,
   "metadata": {},
   "outputs": [],
   "source": [
    "rda.cosinorpy(filename,sep='\\t',period=24*60,n_components=3)\n",
    "rda.cosinor1py(filename,sep='\\t',period=24*60)"
   ]
  },
  {
   "cell_type": "code",
   "execution_count": null,
   "metadata": {},
   "outputs": [],
   "source": [
    "filename='google_traffic.xlsx'\n",
    "df = rda.cosinor_read(filename)\n",
    "df['x']=df['x']*60\n",
    "filename = f'{filename[:-5]}.csv'\n",
    "rda.cosinor_peaks(df,filename=filename)"
   ]
  },
  {
   "cell_type": "code",
   "execution_count": null,
   "metadata": {},
   "outputs": [],
   "source": [
    "print(filename)\n",
    "rda.meta2d_format(filename=filename,sep='\\t')"
   ]
  },
  {
   "cell_type": "code",
   "execution_count": null,
   "metadata": {},
   "outputs": [],
   "source": [
    "filename=f\"Out/{filename[:-4]}/{filename[:-4]}.csv\"\n",
    "rda.meta2d(filename=filename)"
   ]
  },
  {
   "cell_type": "code",
   "execution_count": null,
   "metadata": {},
   "outputs": [],
   "source": [
    "rda.pv_dist(filename)\n",
    "rda.pv_venn(filename)"
   ]
  },
  {
   "cell_type": "code",
   "execution_count": null,
   "metadata": {},
   "outputs": [],
   "source": [
    "#import\n",
    "from rda_package import rda \n",
    "import pandas as pd\n",
    "import numpy as np\n",
    "import matplotlib.pyplot as plt\n",
    "import seaborn as sns\n",
    "from CosinorPy import file_parser,cosinor\n",
    "filename='google_traffic.csv'\n",
    "print(filename)\n",
    "df = pd.read_csv(filename,sep='\\t',index_col=0)\n",
    "df_norep = df.index.to_series()\n",
    "for i in range(0,1421,10):\n",
    "    avg_filter = df.filter(regex=f'T{i}').mean(axis = 1)\n",
    "    avg_filter.name = i\n",
    "    df_norep = pd.merge(df_norep, avg_filter,left_index=True,right_index=True)\n",
    "df_norep=df_norep.drop('gene',axis=1)"
   ]
  },
  {
   "cell_type": "code",
   "execution_count": null,
   "metadata": {},
   "outputs": [],
   "source": [
    "df_ridge1 = rda.analysis(df_norep,filename=filename,time_unit_label='minutes')"
   ]
  },
  {
   "cell_type": "code",
   "execution_count": null,
   "metadata": {},
   "outputs": [],
   "source": [
    "#import\n",
    "from rda_package import rda \n",
    "import pandas as pd\n",
    "import numpy as np\n",
    "import matplotlib.pyplot as plt\n",
    "import seaborn as sns\n",
    "from CosinorPy import file_parser,cosinor\n",
    "filename='google_traffic_workdays.csv'\n",
    "print(filename)\n",
    "df = pd.read_csv(filename,sep='\\t',index_col=0)\n",
    "df_norep = df.index.to_series()\n",
    "for i in range(0,1421,10):\n",
    "    avg_filter = df.filter(regex=f'T{i}').mean(axis = 1)\n",
    "    avg_filter.name = i\n",
    "    df_norep = pd.merge(df_norep, avg_filter,left_index=True,right_index=True)\n",
    "df_norep=df_norep.drop('gene',axis=1)"
   ]
  },
  {
   "cell_type": "code",
   "execution_count": null,
   "metadata": {},
   "outputs": [],
   "source": [
    "df_ridge2 = rda.analysis(df_norep,filename=filename,time_unit_label='minutes')"
   ]
  },
  {
   "cell_type": "code",
   "execution_count": null,
   "metadata": {},
   "outputs": [],
   "source": []
  }
 ],
 "metadata": {
  "interpreter": {
   "hash": "767c48a64caae0be89fa7f8f777746ad491056046165076895ba67746a6851de"
  },
  "kernelspec": {
   "display_name": "Python 3.10.4 64-bit",
   "language": "python",
   "name": "python3"
  },
  "language_info": {
   "codemirror_mode": {
    "name": "ipython",
    "version": 3
   },
   "file_extension": ".py",
   "mimetype": "text/x-python",
   "name": "python",
   "nbconvert_exporter": "python",
   "pygments_lexer": "ipython3",
   "version": "3.10.4"
  },
  "orig_nbformat": 4
 },
 "nbformat": 4,
 "nbformat_minor": 2
}
