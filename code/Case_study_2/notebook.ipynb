{
 "cells": [
  {
   "cell_type": "code",
   "execution_count": null,
   "metadata": {},
   "outputs": [],
   "source": [
    "#import\n",
    "from rda_package import rda \n",
    "import pandas as pd\n",
    "import numpy as np\n",
    "import matplotlib.pyplot as plt\n",
    "import seaborn as sns\n",
    "from CosinorPy import file_parser,cosinor"
   ]
  },
  {
   "cell_type": "code",
   "execution_count": null,
   "metadata": {},
   "outputs": [],
   "source": [
    "filename= 'google_traffic_workdays.xlsx'\n",
    "df = rda.cosinor_read(filename)\n",
    "df['x']=df['x']*60\n",
    "rda.export_csv(df,filename)\n",
    "filename= f'{filename[:-5]}.csv'"
   ]
  },
  {
   "cell_type": "code",
   "execution_count": null,
   "metadata": {},
   "outputs": [],
   "source": [
    "rda.cosinorpy(filename,sep='\\t',period=24*60,n_components=3)\n",
    "rda.cosinor1py(filename,sep='\\t',period=24*60)"
   ]
  },
  {
   "cell_type": "code",
   "execution_count": null,
   "metadata": {},
   "outputs": [],
   "source": [
    "filename= 'google_traffic_workdays.xlsx'\n",
    "df = rda.cosinor_read(filename)\n",
    "df['x']=df['x']*60\n",
    "rda.export_csv(df,filename)\n",
    "filename= f'{filename[:-5]}.csv'\n",
    "names = df.test.unique()\n",
    "print(names)\n",
    "path=f\"Out/{filename[:-4]}/cosinorpyout/COSINORresult_{filename[:-4]}.csv\"\n",
    "df_peaks=pd.read_csv(path)\n",
    "for name in names:\n",
    "    dff=df[df['test']==name]\n",
    "    df_peak=df_peaks[df_peaks['test']==name]\n",
    "    x_peak= str(df_peak['peaks'].iloc[0]).strip('][').split(' ')\n",
    "    y_peak=str(df_peak['heights'].iloc[0]).strip('][').split(' ')\n",
    "    while(\"\" in x_peak) :\n",
    "        x_peak.remove(\"\")\n",
    "    while(\"\" in y_peak) :\n",
    "        y_peak.remove(\"\")\n",
    "    print(x_peak)\n",
    "    x_peak= [float(x) for x in x_peak]\n",
    "    print(y_peak)\n",
    "    y_peak= [float(y) for y in y_peak]\n",
    "    fig, ax = plt.subplots()\n",
    "    sns.lineplot(data=dff,x='x',y='y',hue='test',ax=ax)\n",
    "    ax.plot(x_peak,y_peak,'or')\n",
    "    print(x_peak,y_peak)\n",
    "    if(filename!=None):\n",
    "        plt.savefig(f\"{filename}_{name}.png\",facecolor='white')\n",
    "    plt.show()"
   ]
  },
  {
   "cell_type": "code",
   "execution_count": null,
   "metadata": {},
   "outputs": [],
   "source": [
    "print(filename)\n",
    "rda.meta2d_format(filename=filename,sep='\\t')"
   ]
  },
  {
   "cell_type": "code",
   "execution_count": null,
   "metadata": {},
   "outputs": [],
   "source": [
    "filename=f\"Out/{filename[:-4]}/{filename[:-4]}.csv\"\n",
    "rda.meta2d(filename=filename)"
   ]
  },
  {
   "cell_type": "code",
   "execution_count": null,
   "metadata": {},
   "outputs": [],
   "source": [
    "rda.pv_dist(filename)\n",
    "rda.venn(filename)"
   ]
  }
 ],
 "metadata": {
  "interpreter": {
   "hash": "767c48a64caae0be89fa7f8f777746ad491056046165076895ba67746a6851de"
  },
  "kernelspec": {
   "display_name": "Python 3.10.4 64-bit",
   "language": "python",
   "name": "python3"
  },
  "language_info": {
   "codemirror_mode": {
    "name": "ipython",
    "version": 3
   },
   "file_extension": ".py",
   "mimetype": "text/x-python",
   "name": "python",
   "nbconvert_exporter": "python",
   "pygments_lexer": "ipython3",
   "version": "3.10.4"
  },
  "orig_nbformat": 4
 },
 "nbformat": 4,
 "nbformat_minor": 2
}
