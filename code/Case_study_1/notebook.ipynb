{
 "cells": [
  {
   "cell_type": "markdown",
   "metadata": {},
   "source": [
    "# Testing on synthetic data\n",
    "Models evaluation on synthetic rhythmic data with:\n",
    "- multiple component (n_components=1,2,3)\n",
    "- Different levels of noise (0.3, 0.6, 0.9)\n",
    "- Replicates as 1 since ARS oly work when there isn't replicates\n",
    "- We create 10000 line by file"
   ]
  },
  {
   "cell_type": "code",
   "execution_count": null,
   "metadata": {},
   "outputs": [],
   "source": [
    "#import\n",
    "from rda_package import rda \n",
    "import pandas as pd\n",
    "import numpy as np\n",
    "import matplotlib.pyplot as plt\n",
    "import seaborn as sns\n",
    "N_TEST=10000\n",
    "REPLICATES=1"
   ]
  },
  {
   "cell_type": "markdown",
   "metadata": {},
   "source": [
    "Create dataset and perform rda analysis"
   ]
  },
  {
   "cell_type": "code",
   "execution_count": null,
   "metadata": {},
   "outputs": [],
   "source": [
    "#3h\n",
    "for i in [1,2,3]:\n",
    "    for j in [1,2,3]:\n",
    "        FILENAME=f\"c{i}_n0{3*j}.csv\"\n",
    "        folder_in = f'Out/{FILENAME[:-4]}/'\n",
    "        NOISE=float(0.3*j)\n",
    "        N_COMPONENTS=int(i)\n",
    "        rda.synt_rhythmic_data(FILENAME,half_rnd=True,n_test=N_TEST,n_components=N_COMPONENTS,noise=NOISE,replicates=REPLICATES)\n",
    "        rda.file_rda(folder_in+FILENAME,metrics=True,half_rnd=True,n_components=N_COMPONENTS)"
   ]
  },
  {
   "cell_type": "markdown",
   "metadata": {},
   "source": [
    "Load files in a dataframe"
   ]
  },
  {
   "cell_type": "code",
   "execution_count": null,
   "metadata": {},
   "outputs": [],
   "source": [
    "import pandas as pd\n",
    "df_metrics= pd.DataFrame()\n",
    "for i in [1,2,3]:\n",
    "    for j in [1,2,3]:\n",
    "        filename=f\"c{i}_n0{3*j}.csv\"\n",
    "        df_tmp = pd.read_csv(f\"Out/{filename[:-4]}/qv_metrics_{filename[:-4]}.csv\")\n",
    "        df_tmp['filename']=filename\n",
    "        df_metrics =pd.concat([df_metrics,df_tmp])"
   ]
  },
  {
   "cell_type": "markdown",
   "metadata": {},
   "source": [
    "Plot Matthew's Correlation Coefficient for models evaluation"
   ]
  },
  {
   "cell_type": "code",
   "execution_count": null,
   "metadata": {},
   "outputs": [],
   "source": [
    "#mcc models evaluation\n",
    "ncols = 3\n",
    "nrows = 3\n",
    "fig, axes = plt.subplots(ncols = ncols, nrows = nrows, sharey=False)\n",
    "axes = axes.flatten()         \n",
    "fig.set_size_inches(30, 30)\n",
    "sns.set_style(\"white\")\n",
    "flatui = ['#d9d9d9','#bdbdbd','#969696','#737373','#525252','#252525']\n",
    "filenames = []\n",
    "for i in [1,2,3]:\n",
    "    for j in [1,2,3]:\n",
    "        filename = f\"c{i}_n0{3*j}.csv\"\n",
    "        filenames.append(filename)\n",
    "for ax, filename in zip(axes,filenames):\n",
    "            df_metrics = pd.read_csv(f\"Out/{filename[:-4]}/qv_metrics_{filename[:-4]}.csv\")\n",
    "            sns.barplot(data=df_metrics, x='model', y='mcc', ax=ax, ci=68, capsize=.2, palette=flatui) # ci=68 --> standard error!\n",
    "            ax.set_ylabel(f'n_components = {filename[1]}')\n",
    "            ax.set_xlabel(f'noise = 0.{filename[-5]}')\n",
    "plt.suptitle(f\"Matthew's Correlation Coefficient for models evaluation qv\")\n",
    "fig.subplots_adjust(top=0.95)\n",
    "plt.savefig(f\"Out/models_qv_mcc.png\", bbox_inches=\"tight\", facecolor='white')\n",
    "plt.show()"
   ]
  },
  {
   "cell_type": "markdown",
   "metadata": {},
   "source": [
    "Plot models metrics on a dataset"
   ]
  },
  {
   "cell_type": "code",
   "execution_count": null,
   "metadata": {},
   "outputs": [],
   "source": [
    "\n",
    "import matplotlib.pyplot as plt\n",
    "import seaborn as sns\n",
    "import pandas as pd\n",
    "df_metrics= pd.DataFrame()\n",
    "for i in [1,2,3]:\n",
    "    for j in [1,2,3]:\n",
    "        filename=f\"c{i}_n0{3*j}.csv\"\n",
    "        df_tmp = pd.read_csv(f\"Out/{filename[:-4]}/qv_metrics_{filename[:-4]}.csv\")\n",
    "        df_tmp['filename']=filename\n",
    "        df_metrics =pd.concat([df_metrics,df_tmp])\n",
    "sns.set_style(\"white\")\n",
    "flatui = ['#d9d9d9','#bdbdbd','#969696','#737373','#525252','#252525']\n",
    "ncols = 2\n",
    "nrows = 3\n",
    "metrics = [\"precision\", \"f1\", \"recall\", \"accuracy\", \"auc\", \"mcc\"]\n",
    "filenames = []\n",
    "for i in [1,2,3]:\n",
    "    for j in [1,2,3]:\n",
    "        filename = f\"c{i}_n0{3*j}.csv\"\n",
    "        filenames.append(filename)\n",
    "for filename in filenames:\n",
    "    fig, axes = plt.subplots(ncols = ncols, nrows = nrows, sharey=False)\n",
    "    axes = axes.flatten()         \n",
    "    fig.set_size_inches(20, 20)\n",
    "    for ax, metric in zip(axes, metrics):\n",
    "        sns.barplot(data=df_metrics[df_metrics['filename']==filename], x='model', y=metric, ax=ax, ci=68, capsize=.2,palette=flatui) # ci=68 --> standard error!\n",
    "        ax.set_ylabel(metric)\n",
    "    plt.suptitle(f'Metrics qv {filename[:-4]}')\n",
    "    fig.subplots_adjust(top=0.95)\n",
    "    plt.savefig(f\"Out/{filename[:-4]}/{filename[:-4]}_qv_metrics.png\", bbox_inches=\"tight\", facecolor='white')\n",
    "    plt.show()"
   ]
  },
  {
   "cell_type": "markdown",
   "metadata": {},
   "source": [
    "Plot model metrics on different dataset"
   ]
  },
  {
   "cell_type": "code",
   "execution_count": null,
   "metadata": {},
   "outputs": [],
   "source": [
    "#global models evaluation\n",
    "import matplotlib.pyplot as plt\n",
    "import seaborn as sns\n",
    "import pandas as pd\n",
    "df_metrics= pd.DataFrame()\n",
    "for i in [1,2,3]:\n",
    "    for j in [1,2,3]:\n",
    "        filename=f\"c{i}_n0{3*j}.csv\"\n",
    "        df_tmp = pd.read_csv(f\"Out/{filename[:-4]}/qv_metrics_{filename[:-4]}.csv\")\n",
    "        df_tmp['filename']=filename[:-4]\n",
    "        df_metrics =pd.concat([df_metrics,df_tmp])\n",
    "sns.set_style(\"white\")\n",
    "flatui = ['#d9d9d9','#bdbdbd','#969696','#737373','#525252','#252525']\n",
    "ncols = 2\n",
    "nrows = 3\n",
    "models = ['ARS','JTK','LS','meta2d','Cosinor','Rain','Cosinor1','Cosinor1(amp)']\n",
    "metrics = [\"precision\", \"f1\", \"recall\", \"accuracy\", \"auc\", \"mcc\"]\n",
    "for model in models:\n",
    "    fig, axes = plt.subplots(ncols = ncols, nrows = nrows, sharey=False)\n",
    "    axes = axes.flatten()         \n",
    "    fig.set_size_inches(16, 16)\n",
    "    for ax, metric in zip(axes, metrics):\n",
    "        sns.barplot(data=df_metrics, x='filename', y=metric, ax=ax, ci=68, capsize=.2, palette=flatui) # ci=68 --> standard error!\n",
    "        #ax.set_xticklabels(df['filename'].to_numpy(), rotation=45)\n",
    "        ax.set_ylabel(metric)\n",
    "    plt.suptitle(model)\n",
    "    fig.subplots_adjust(top=0.95)\n",
    "    plt.savefig(f\"Out/{model}_qv_metrics.png\", bbox_inches=\"tight\",facecolor='white')\n",
    "\n",
    "    plt.show()"
   ]
  },
  {
   "cell_type": "markdown",
   "metadata": {},
   "source": [
    "## Plot standard deviation"
   ]
  },
  {
   "cell_type": "markdown",
   "metadata": {},
   "source": [
    "Plot table of the global standard deviation of each models"
   ]
  },
  {
   "cell_type": "code",
   "execution_count": null,
   "metadata": {},
   "outputs": [],
   "source": [
    "#global std\n",
    "import pandas as pd\n",
    "import numpy as np\n",
    "import plotly.figure_factory as ff\n",
    "df_after_ind= pd.DataFrame()\n",
    "for i in [1,2,3]:\n",
    "    for j in [1,2,3]:\n",
    "        filename=f\"c{i}_n0{3*j}.csv\"\n",
    "        df_after = pd.read_csv(f\"Out/{filename[:-4]}/qv_metrics_{filename[:-4]}.csv\")\n",
    "        df_after['filename']=filename\n",
    "        df_after_ind =pd.concat([df_after_ind,df_after])\n",
    "sns.set_style(\"white\")\n",
    "flatui = ['#d9d9d9','#bdbdbd','#969696','#737373','#525252','#252525']\n",
    "models = ['ARS','JTK','LS','meta2d','Cosinor','Rain','Cosinor1','Cosinor1(amp)']\n",
    "metrics = [\"precision\", \"f1\", \"recall\", \"accuracy\", \"auc\"]\n",
    "df = pd.DataFrame(columns = ['model','avg_std'], dtype=float)\n",
    "for model in models:\n",
    "    res=[]\n",
    "    for metric in metrics:\n",
    "        std = df_after_ind[df_after_ind['model']==model][metric].std()\n",
    "        res.append(std)\n",
    "        #print(model,metric,std°\n",
    "    #print(res)\n",
    "    df =df.append({'model':model,'avg_std': np.array(res).mean()}, ignore_index=True)\n",
    "fig1 = ff.create_table(df.sort_values(by='avg_std'))\n",
    "fig1.update_layout(width=500, height=300)\n",
    "fig1.show()"
   ]
  },
  {
   "cell_type": "markdown",
   "metadata": {},
   "source": [
    "Plot table of standard deviation for a fixed number of cosinor components"
   ]
  },
  {
   "cell_type": "code",
   "execution_count": null,
   "metadata": {},
   "outputs": [],
   "source": [
    "#std fixed number of components\n",
    "import pandas as pd\n",
    "import numpy as np\n",
    "import plotly.figure_factory as ff\n",
    "for i in [1,2,3]:\n",
    "    df_metrics= pd.DataFrame()\n",
    "    df = pd.DataFrame(columns = ['model'], dtype=float)\n",
    "    for j in [1,2,3]:\n",
    "        filename=f\"c{i}_n0{3*j}.csv\"\n",
    "        df_tmp = pd.read_csv(f\"Out/{filename[:-4]}/qv_metrics_{filename[:-4]}.csv\")\n",
    "        df_tmp['filename']=filename\n",
    "        df_metrics =pd.concat([df_metrics,df_tmp])\n",
    "    models = ['ARS','JTK','LS','meta2d','Cosinor','Rain','Cosinor1','Cosinor1(amp)']\n",
    "    metrics = [\"precision\", \"f1\", \"recall\", \"accuracy\", \"auc\"]\n",
    "    sns.set_style(\"white\")\n",
    "    flatui = ['#d9d9d9','#bdbdbd','#969696','#737373','#525252','#252525']\n",
    "    df = pd.DataFrame(columns = ['model'], dtype=float)\n",
    "    #print(df_after_ind)\n",
    "    for model in models:\n",
    "        res=[]\n",
    "        for metric in metrics:\n",
    "            std = df_metrics[df_metrics['model']==model][metric].std()\n",
    "            res.append(std)\n",
    "            #print(model,metric,std)\n",
    "        df =df.append({'model':model,f'avg_std_c{i}': np.array(res).mean()}, ignore_index=True)\n",
    "    fig1 = ff.create_table(df.sort_values(by=f'avg_std_c{i}'))\n",
    "    fig1.update_layout(width=1000, height=300)\n",
    "    fig1.show()"
   ]
  },
  {
   "cell_type": "markdown",
   "metadata": {},
   "source": [
    "Plot table of standard deviation for a fixed level of noise"
   ]
  },
  {
   "cell_type": "code",
   "execution_count": null,
   "metadata": {},
   "outputs": [],
   "source": [
    "#std fixe tmp\n",
    "import pandas as pd\n",
    "import numpy as np\n",
    "import plotly.figure_factory as ff\n",
    "\n",
    "for j in [1,2,3]:\n",
    "    df_metrics= pd.DataFrame()\n",
    "    df = pd.DataFrame(columns = ['model'], dtype=float)\n",
    "    for i in [1,2,3]:\n",
    "        filename=f\"c{i}_n0{3*j}.csv\"\n",
    "        df_tmp = pd.read_csv(f\"Out/{filename[:-4]}/qv_metrics_{filename[:-4]}.csv\")\n",
    "        df_tmp['filename']=filename\n",
    "        df_metrics =pd.concat([df_metrics,df_tmp])\n",
    "    models = ['ARS','JTK','LS','meta2d','Cosinor','Rain','Cosinor1','Cosinor1(amp)']\n",
    "    metrics = [\"precision\", \"f1\", \"recall\", \"accuracy\", \"auc\"]\n",
    "    df = pd.DataFrame(columns = ['model'], dtype=float)\n",
    "    #print(df_after_ind)\n",
    "    for model in models:\n",
    "        res=[]\n",
    "        for metric in metrics:\n",
    "            std = df_metrics[df_metrics['model']==model][metric].std()\n",
    "            res.append(std)\n",
    "            #print(model,metric,std)\n",
    "        df =df.append({'model':model,f'avg_std_n0{3*j}': np.array(res).mean()}, ignore_index=True)\n",
    "    fig1 = ff.create_table(df.sort_values(by=f'avg_std_n0{3*j}'))\n",
    "    fig1.update_layout(width=1000, height=300)\n",
    "    fig1.show()"
   ]
  }
 ],
 "metadata": {
  "interpreter": {
   "hash": "767c48a64caae0be89fa7f8f777746ad491056046165076895ba67746a6851de"
  },
  "kernelspec": {
   "display_name": "Python 3.10.4 64-bit",
   "language": "python",
   "name": "python3"
  },
  "language_info": {
   "codemirror_mode": {
    "name": "ipython",
    "version": 3
   },
   "file_extension": ".py",
   "mimetype": "text/x-python",
   "name": "python",
   "nbconvert_exporter": "python",
   "pygments_lexer": "ipython3",
   "version": "3.10.4"
  },
  "orig_nbformat": 4
 },
 "nbformat": 4,
 "nbformat_minor": 2
}
