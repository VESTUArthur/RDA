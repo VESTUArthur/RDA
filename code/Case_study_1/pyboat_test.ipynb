{
 "cells": [
  {
   "cell_type": "markdown",
   "metadata": {},
   "source": [
    "# Testing pyBOAT package for signals analysis"
   ]
  },
  {
   "cell_type": "code",
   "execution_count": null,
   "metadata": {},
   "outputs": [],
   "source": [
    "#import\n",
    "from rda_package import rda \n",
    "import pandas as pd\n",
    "import numpy as np\n",
    "import matplotlib.pyplot as plt\n",
    "import seaborn as sns\n",
    "from pyboat import WAnalyzer\n",
    "import statsmodels.stats.multitest as multi\n",
    "from CosinorPy import file_parser, cosinor, cosinor1"
   ]
  },
  {
   "cell_type": "code",
   "execution_count": null,
   "metadata": {},
   "outputs": [],
   "source": [
    "def analysis(filename,lines=[0],dt=2):\n",
    "        df =pd.read_csv(filename,index_col=0)\n",
    "        filename=filename.split('/')[-1][:-4]\n",
    "        print(filename)\n",
    "        ridge=pd.DataFrame()\n",
    "        if lines == 'all':\n",
    "            lines = range(len(df))\n",
    "        if type(lines) == int:\n",
    "            lines = [lines]  \n",
    "        if dt==None:\n",
    "            dt = int(df.columns[0]) - int(df.columns[1])\n",
    "            print(dt)\n",
    "        for x in lines:\n",
    "                signal = df.iloc[x].to_list()\n",
    "                t = df.columns.astype(int).to_list()\n",
    "                periods = t\n",
    "                wAn= WAnalyzer(periods=periods,dt=dt, time_unit_label='hours')\n",
    "                plt.ion()\n",
    "                T_cutoff = 96 # Define cutoff period in h\n",
    "                modulus, ransform = wAn.compute_spectrum(signal,T_c=T_cutoff)\n",
    "                ridge_tmp = wAn.get_maxRidge()\n",
    "                ridge = pd.concat([ridge,ridge_tmp])\n",
    "                plt.savefig(f\"Out/{filename}/plt_line{x}_{filename}.png\",facecolor='white')\n",
    "        ridge.to_csv(f\"Out/{filename}/ridge_{filename}.csv\")\n",
    "        return ridge"
   ]
  },
  {
   "cell_type": "code",
   "execution_count": null,
   "metadata": {},
   "outputs": [],
   "source": [
    "for i in [1,2,3]:\n",
    "    for j in [1,2,3]:\n",
    "        FILENAME=f\"c{i}_n0{3*j}.csv\"\n",
    "        folder_in = f'Out/{FILENAME[:-4]}/'\n",
    "        df = pd.read_csv(folder_in+FILENAME,index_col=0)\n",
    "        rda.analysis(df,FILENAME,lines=0)\n",
    "df"
   ]
  }
 ],
 "metadata": {
  "interpreter": {
   "hash": "767c48a64caae0be89fa7f8f777746ad491056046165076895ba67746a6851de"
  },
  "kernelspec": {
   "display_name": "Python 3.10.4 64-bit",
   "language": "python",
   "name": "python3"
  },
  "language_info": {
   "codemirror_mode": {
    "name": "ipython",
    "version": 3
   },
   "file_extension": ".py",
   "mimetype": "text/x-python",
   "name": "python",
   "nbconvert_exporter": "python",
   "pygments_lexer": "ipython3",
   "version": "3.10.4"
  },
  "orig_nbformat": 4
 },
 "nbformat": 4,
 "nbformat_minor": 2
}
