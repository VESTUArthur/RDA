{
 "cells": [
  {
   "cell_type": "code",
   "execution_count": null,
   "metadata": {},
   "outputs": [],
   "source": [
    "from rda_package import rda\n",
    "print(rda.venn.__doc__)"
   ]
  },
  {
   "cell_type": "code",
   "execution_count": null,
   "metadata": {},
   "outputs": [],
   "source": [
    "from rda_package import rda\n",
    "import pandas as pd\n",
    "import numpy as np\n",
    "import re\n",
    "FILENAME='demo_RNA.csv'\n",
    "rda.cycMouseLiverRNA(FILENAME)\n",
    "rda.file_rda(FILENAME)"
   ]
  },
  {
   "cell_type": "code",
   "execution_count": null,
   "metadata": {},
   "outputs": [],
   "source": [
    "from rda_package import rda \n",
    "import pandas as pd\n",
    "import os\n",
    "df=pd.read_csv('spreadsheet.txt', sep='\\t',index_col=None)\n",
    "df=df.drop('geneID',axis=1)\n",
    "dfn=df\n",
    "dfd=df\n",
    "colnames=df.columns.to_list()\n",
    "for i in range(len(colnames)):\n",
    "    if colnames[i][0]=='N':\n",
    "        dfd=dfd.drop(colnames[i],axis=1)\n",
    "    else:\n",
    "        dfn=dfn.drop(colnames[i],axis=1)\n",
    "\n",
    "FILENAME='demo_sday.csv'\n",
    "os.makedirs(f'Out/{FILENAME[:-4]}', exist_ok=True)\n",
    "dfd.to_csv(f'Out/{FILENAME[:-4]}/{FILENAME}')\n",
    "rda.meta2dFormat(FILENAME)\n",
    "rda.file_rda(FILENAME)\n",
    "FILENAME='demo_snight.csv'\n",
    "os.makedirs(f'Out/{FILENAME[:-4]}', exist_ok=True)\n",
    "dfd.to_csv(f'Out/{FILENAME[:-4]}/{FILENAME}')\n",
    "rda.meta2dFormat(FILENAME)\n",
    "rda.file_rda(FILENAME)"
   ]
  },
  {
   "cell_type": "code",
   "execution_count": null,
   "metadata": {},
   "outputs": [],
   "source": [
    "from rda_package import rda \n",
    "import pandas as pd\n",
    "import numpy as np\n",
    "import re\n",
    "FILENAME='demo_seqML.csv'\n",
    "rda.menetRNASeqMouseLiver(FILENAME)\n",
    "rda.meta2dFormat(FILENAME)\n"
   ]
  },
  {
   "cell_type": "code",
   "execution_count": null,
   "metadata": {},
   "outputs": [],
   "source": [
    "rda.file_rda(FILENAME,sample_rate=4)"
   ]
  },
  {
   "cell_type": "code",
   "execution_count": null,
   "metadata": {},
   "outputs": [],
   "source": [
    "from rda_package import rda \n",
    "import pandas as pd\n",
    "import numpy as np\n",
    "import re\n",
    "FILENAME='demo_sRhD.csv'\n",
    "rda.syntRhythmicData(FILENAME,4,1,0)\n",
    "rda.meta2d(FILENAME)\n",
    "rda.rain(FILENAME,sampleRate=2,nbReplicate=1)\n",
    "rda.cosinorpy(FILENAME)\n",
    "rda.pValues(filename=FILENAME)\n",
    "rda.venn(FILENAME)"
   ]
  },
  {
   "cell_type": "code",
   "execution_count": null,
   "metadata": {},
   "outputs": [],
   "source": [
    "from rda_package import rda \n",
    "import pandas as pd\n",
    "import numpy as np\n",
    "import re\n",
    "FILENAME='demo_sRnD.csv'\n",
    "rda.syntRandomData(FILENAME,4)\n",
    "rda.file_rda(FILENAME)"
   ]
  }
 ],
 "metadata": {
  "interpreter": {
   "hash": "767c48a64caae0be89fa7f8f777746ad491056046165076895ba67746a6851de"
  },
  "kernelspec": {
   "display_name": "Python 3.10.4 64-bit",
   "language": "python",
   "name": "python3"
  },
  "language_info": {
   "codemirror_mode": {
    "name": "ipython",
    "version": 3
   },
   "file_extension": ".py",
   "mimetype": "text/x-python",
   "name": "python",
   "nbconvert_exporter": "python",
   "pygments_lexer": "ipython3",
   "version": "3.10.4"
  },
  "orig_nbformat": 4
 },
 "nbformat": 4,
 "nbformat_minor": 2
}
