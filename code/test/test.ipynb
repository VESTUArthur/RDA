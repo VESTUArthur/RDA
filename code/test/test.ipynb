{
 "cells": [
  {
   "cell_type": "markdown",
   "metadata": {},
   "source": [
    "# Testing on synthetic data\n",
    "Models evaluation on synthetic rhythmic data with:\n",
    "- multiple component (n_components=1,2,3)\n",
    "- Different levels of noise (0.3, 0.6, 0.9)\n",
    "- Replicates as 1 since ARS oly work when there isn't replicates\n",
    "- We create 10000 line by file"
   ]
  },
  {
   "cell_type": "code",
   "execution_count": null,
   "metadata": {},
   "outputs": [],
   "source": [
    "#import\n",
    "from rda_package import rda \n",
    "import pandas as pd\n",
    "import numpy as np\n",
    "import matplotlib.pyplot as plt\n",
    "import seaborn as sns\n",
    "N_TEST=10000\n",
    "REPLICATES=1"
   ]
  },
  {
   "cell_type": "code",
   "execution_count": null,
   "metadata": {},
   "outputs": [],
   "source": [
    "#3h\n",
    "N_TEST=10000\n",
    "for i in [1,2,3]:\n",
    "    for j in [1,2,3]:\n",
    "        FILENAME=f\"c{i}_n0{3*j}.csv\"\n",
    "        NOISE=float(0.3*j)\n",
    "        N_COMPONENTS=int(i)\n",
    "        rda.synt_rhythmic_data(FILENAME,half_rnd=True,n_test=N_TEST,n_components=N_COMPONENTS,noise=NOISE,replicates=REPLICATES)\n",
    "        rda.file_rda(FILENAME,metrics=True,half_rnd=True,n_components=N_COMPONENTS)  "
   ]
  },
  {
   "cell_type": "code",
   "execution_count": null,
   "metadata": {},
   "outputs": [],
   "source": [
    "import pandas as pd\n",
    "df_after_ind= pd.DataFrame()\n",
    "for i in [1,2,3]:\n",
    "    for j in [1,2,3]:\n",
    "        filename=f\"c{i}_n0{3*j}.csv\"\n",
    "        df_after = pd.read_csv(f\"Out/{filename[:-4]}/metrics_{filename[:-4]}.csv\")\n",
    "        df_after['filename']=filename\n",
    "        df_after_ind =pd.concat([df_after_ind,df_after])\n",
    "df_after_ind[df_after_ind['model']=='ARS']"
   ]
  },
  {
   "cell_type": "code",
   "execution_count": null,
   "metadata": {},
   "outputs": [],
   "source": [
    "import matplotlib.pyplot as plt\n",
    "import seaborn as sns\n",
    "ncols = 2\n",
    "nrows = 3\n",
    "models = ['ARS','JTK','LS','meta2d','Cosinor','Rain']\n",
    "metrics = [\"precision\", \"f1\", \"recall\", \"accuracy\", \"auc\"]\n",
    "for model in models:\n",
    "    fig, axes = plt.subplots(ncols = ncols, nrows = nrows, sharey=False)\n",
    "    axes = axes.flatten()         \n",
    "    fig.set_size_inches(16, 16)\n",
    "    for ax, metric in zip(axes, metrics):\n",
    "        #sns.barplot(data=df_after_ind, x='model', y=metric, ax=ax, ci=95) # ci=95 --> 95% confidence interval\n",
    "        df=df_after_ind[df_after_ind['model']==model]\n",
    "        print(df['filename'].to_numpy())\n",
    "        sns.barplot(data=df, x='filename', y=metric, ax=ax, ci=68) # ci=68 --> standard error!\n",
    "        ax.set_xticklabels(df['filename'].to_numpy(), rotation=45)\n",
    "        #ax.set_xlabel(\"\")\n",
    "        #ax.set_title(metric)\n",
    "        ax.set_ylabel(metric)\n",
    "        #if i % ncols:\n",
    "        #    ax.set_ylabel(\"\")\n",
    "        #else:\n",
    "        #    ax.set_ylabel(\"Frequency\")\n",
    "    \n",
    "\n",
    "    plt.suptitle(model)\n",
    "    fig.subplots_adjust(top=0.95)\n",
    "\n",
    "    #plt.savefig(folder_out+f\"\\\\{label}_metrics_after_ind.pdf\", bbox_inches=\"tight\")\n",
    "    plt.savefig(f\"Out/{model}_metrics.png\", bbox_inches=\"tight\",facecolor='white')\n",
    "\n",
    "    plt.show()"
   ]
  }
 ],
 "metadata": {
  "interpreter": {
   "hash": "767c48a64caae0be89fa7f8f777746ad491056046165076895ba67746a6851de"
  },
  "kernelspec": {
   "display_name": "Python 3.10.4 64-bit",
   "language": "python",
   "name": "python3"
  },
  "language_info": {
   "codemirror_mode": {
    "name": "ipython",
    "version": 3
   },
   "file_extension": ".py",
   "mimetype": "text/x-python",
   "name": "python",
   "nbconvert_exporter": "python",
   "pygments_lexer": "ipython3",
   "version": "3.10.4"
  },
  "orig_nbformat": 4
 },
 "nbformat": 4,
 "nbformat_minor": 2
}
