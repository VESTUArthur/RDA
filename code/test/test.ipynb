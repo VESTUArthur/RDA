{
 "cells": [
  {
   "cell_type": "markdown",
   "metadata": {},
   "source": [
    "# Testing on synthetic data\n",
    "Models evaluation on synthetic rhythmic data with:\n",
    "- multiple component (n_components=1,2,3)\n",
    "- Different levels of noise (0.3, 0.6, 0.9)\n",
    "- Replicates as 1 since ARS oly work when there isn't replicates\n",
    "- We create 10000 line by file"
   ]
  },
  {
   "cell_type": "code",
   "execution_count": null,
   "metadata": {},
   "outputs": [],
   "source": [
    "#import\n",
    "from rda_package import rda \n",
    "import pandas as pd\n",
    "import numpy as np\n",
    "import matplotlib.pyplot as plt\n",
    "import seaborn as sns\n",
    "N_TEST=100\n",
    "REPLICATES=1"
   ]
  },
  {
   "cell_type": "code",
   "execution_count": null,
   "metadata": {},
   "outputs": [],
   "source": [
    "#3h\n",
    "for i in [1,2,3]:\n",
    "    for j in [1,2,3]:\n",
    "        FILENAME=f\"c{i}_n0{3*j}.csv\"\n",
    "        NOISE=float(0.3*j)\n",
    "        N_COMPONENTS=int(i)\n",
    "        rda.synt_rhythmic_data(FILENAME,half_rnd=True,n_test=N_TEST,n_components=N_COMPONENTS,noise=NOISE,replicates=REPLICATES)\n",
    "        rda.file_rda(FILENAME,metrics=True,half_rnd=True,n_components=N_COMPONENTS)"
   ]
  },
  {
   "cell_type": "code",
   "execution_count": null,
   "metadata": {},
   "outputs": [],
   "source": [
    "\"\"\"for i in [1,2,3]:\n",
    "    for j in [1,2,3]:\n",
    "        FILENAME=f\"c{i}_n0{3*j}.csv\"\n",
    "        NOISE=float(0.3*j)\n",
    "        N_COMPONENTS=int(i)\n",
    "        rda.make_metrics(FILENAME,half_rnd=True)\n",
    "        rda.plot_metrics(FILENAME)\"\"\""
   ]
  },
  {
   "cell_type": "code",
   "execution_count": null,
   "metadata": {},
   "outputs": [],
   "source": [
    "import pandas as pd\n",
    "df_after_ind= pd.DataFrame()\n",
    "for i in [1,2,3]:\n",
    "    for j in [1,2,3]:\n",
    "        filename=f\"c{i}_n0{3*j}.csv\"\n",
    "        df_after = pd.read_csv(f\"Out/{filename[:-4]}/metrics_{filename[:-4]}.csv\")\n",
    "        df_after['filename']=filename\n",
    "        df_after_ind =pd.concat([df_after_ind,df_after])\n",
    "df_after_ind[df_after_ind['model']=='ARS']"
   ]
  },
  {
   "cell_type": "code",
   "execution_count": null,
   "metadata": {},
   "outputs": [],
   "source": [
    "#mcc models evaluation\n",
    "ncols = 3\n",
    "nrows = 3\n",
    "fig, axes = plt.subplots(ncols = ncols, nrows = nrows, sharey=False)\n",
    "axes = axes.flatten()         \n",
    "fig.set_size_inches(15, 15)\n",
    "filenames = []\n",
    "for i in [1,2,3]:\n",
    "    for j in [1,2,3]:\n",
    "        filename = f\"c{i}_n0{3*j}.csv\"\n",
    "        filenames.append(filename)\n",
    "for ax, filename in zip(axes,filenames):\n",
    "            df_metrics = pd.read_csv(f\"Out/{filename[:-4]}/metrics_{filename[:-4]}.csv\")\n",
    "            sns.barplot(data=df_metrics, x='model', y='mcc', ax=ax, ci=68) # ci=68 --> standard error!\n",
    "            ax.set_ylabel(f'n_components = {filename[1]}')\n",
    "            ax.set_xlabel(f'noise = 0.{filename[-5]}')\n",
    "plt.suptitle(f'Matthews Correlation Coefficient for models evaluation')\n",
    "fig.subplots_adjust(top=0.95)\n",
    "plt.savefig(f\"Out/models_mcc.png\", bbox_inches=\"tight\", facecolor='white')\n",
    "plt.show()"
   ]
  },
  {
   "cell_type": "code",
   "execution_count": null,
   "metadata": {},
   "outputs": [],
   "source": [
    "#models evaluation on 1 dataset\n",
    "i=1\n",
    "j=1\n",
    "filename=f\"c{i}_n0{3*j}.csv\"\n",
    "df_metrics = pd.read_csv(f\"Out/{filename[:-4]}/metrics_{filename[:-4]}.csv\")\n",
    "ncols = 2\n",
    "nrows = 3\n",
    "fig, axes = plt.subplots(ncols = ncols, nrows = nrows, sharey=False)\n",
    "axes = axes.flatten()         \n",
    "fig.set_size_inches(10, 10)\n",
    "metrics = [\"precision\", \"f1\", \"recall\", \"accuracy\", \"auc\", \"mcc\"]\n",
    "for ax, metric in zip(axes, metrics):\n",
    "    sns.barplot(data=df_metrics, x='model', y=metric, ax=ax, ci=68) # ci=68 --> standard error!\n",
    "    ax.set_ylabel(metric)\n",
    "plt.suptitle(f'Metrics  {filename[:-4]}')\n",
    "fig.subplots_adjust(top=0.95)\n",
    "plt.savefig(f\"Out/{filename[:-4]}/{filename[:-4]}_metrics.png\", bbox_inches=\"tight\", facecolor='white')\n",
    "plt.show()"
   ]
  },
  {
   "cell_type": "code",
   "execution_count": null,
   "metadata": {},
   "outputs": [],
   "source": [
    "#global models evaluation\n",
    "import matplotlib.pyplot as plt\n",
    "import seaborn as sns\n",
    "import pandas as pd\n",
    "df_after_ind= pd.DataFrame()\n",
    "for i in [1,2,3]:\n",
    "    for j in [1,2,3]:\n",
    "        filename=f\"c{i}_n0{3*j}.csv\"\n",
    "        df_after = pd.read_csv(f\"Out/{filename[:-4]}/metrics_{filename[:-4]}.csv\")\n",
    "        df_after['filename']=filename\n",
    "        df_after_ind =pd.concat([df_after_ind,df_after])\n",
    "df_after_ind[df_after_ind['model']=='ARS']\n",
    "ncols = 2\n",
    "nrows = 3\n",
    "models = ['ARS','JTK','LS','meta2d','Cosinor','Rain']\n",
    "metrics = [\"precision\", \"f1\", \"recall\", \"accuracy\", \"auc\", \"mcc\"]\n",
    "for model in models:\n",
    "    fig, axes = plt.subplots(ncols = ncols, nrows = nrows, sharey=False)\n",
    "    axes = axes.flatten()         \n",
    "    fig.set_size_inches(16, 16)\n",
    "    for ax, metric in zip(axes, metrics):\n",
    "        #sns.barplot(data=df_after_ind, x='model', y=metric, ax=ax, ci=95) # ci=95 --> 95% confidence interval\n",
    "        df=df_after_ind[df_after_ind['model']==model]\n",
    "        print(df['filename'].to_numpy())\n",
    "        sns.barplot(data=df, x='filename', y=metric, ax=ax, ci=68) # ci=68 --> standard error!\n",
    "        ax.set_xticklabels(df['filename'].to_numpy(), rotation=45)\n",
    "        #ax.set_xlabel(\"\")\n",
    "        #ax.set_title(metric)\n",
    "        ax.set_ylabel(metric)\n",
    "        #if i % ncols:\n",
    "        #    ax.set_ylabel(\"\")\n",
    "        #else:\n",
    "        #    ax.set_ylabel(\"Frequency\")\n",
    "    \n",
    "\n",
    "    plt.suptitle(model)\n",
    "    fig.subplots_adjust(top=0.95)\n",
    "\n",
    "    #plt.savefig(folder_out+f\"\\\\{label}_metrics_after_ind.pdf\", bbox_inches=\"tight\")\n",
    "    plt.savefig(f\"Out/{model}_metrics.png\", bbox_inches=\"tight\",facecolor='white')\n",
    "\n",
    "    plt.show()"
   ]
  },
  {
   "cell_type": "code",
   "execution_count": 11,
   "metadata": {},
   "outputs": [
    {
     "name": "stderr",
     "output_type": "stream",
     "text": [
      "C:\\Users\\arthu\\AppData\\Local\\Temp/ipykernel_1780/3057964521.py:22: FutureWarning:\n",
      "\n",
      "The frame.append method is deprecated and will be removed from pandas in a future version. Use pandas.concat instead.\n",
      "\n",
      "C:\\Users\\arthu\\AppData\\Local\\Temp/ipykernel_1780/3057964521.py:22: FutureWarning:\n",
      "\n",
      "The frame.append method is deprecated and will be removed from pandas in a future version. Use pandas.concat instead.\n",
      "\n",
      "C:\\Users\\arthu\\AppData\\Local\\Temp/ipykernel_1780/3057964521.py:22: FutureWarning:\n",
      "\n",
      "The frame.append method is deprecated and will be removed from pandas in a future version. Use pandas.concat instead.\n",
      "\n",
      "C:\\Users\\arthu\\AppData\\Local\\Temp/ipykernel_1780/3057964521.py:22: FutureWarning:\n",
      "\n",
      "The frame.append method is deprecated and will be removed from pandas in a future version. Use pandas.concat instead.\n",
      "\n",
      "C:\\Users\\arthu\\AppData\\Local\\Temp/ipykernel_1780/3057964521.py:22: FutureWarning:\n",
      "\n",
      "The frame.append method is deprecated and will be removed from pandas in a future version. Use pandas.concat instead.\n",
      "\n",
      "C:\\Users\\arthu\\AppData\\Local\\Temp/ipykernel_1780/3057964521.py:22: FutureWarning:\n",
      "\n",
      "The frame.append method is deprecated and will be removed from pandas in a future version. Use pandas.concat instead.\n",
      "\n"
     ]
    },
    {
     "data": {
      "application/vnd.plotly.v1+json": {
       "config": {
        "plotlyServerURL": "https://plot.ly"
       },
       "data": [
        {
         "colorscale": [
          [
           0,
           "#00083e"
          ],
          [
           0.5,
           "#ededee"
          ],
          [
           1,
           "#ffffff"
          ]
         ],
         "hoverinfo": "none",
         "opacity": 0.75,
         "showscale": false,
         "type": "heatmap",
         "z": [
          [
           0,
           0
          ],
          [
           0.5,
           0.5
          ],
          [
           1,
           1
          ],
          [
           0.5,
           0.5
          ],
          [
           1,
           1
          ],
          [
           0.5,
           0.5
          ],
          [
           1,
           1
          ]
         ]
        }
       ],
       "layout": {
        "annotations": [
         {
          "align": "left",
          "font": {
           "color": "#ffffff"
          },
          "showarrow": false,
          "text": "<b>model</b>",
          "x": -0.45,
          "xanchor": "left",
          "xref": "x",
          "y": 0,
          "yref": "y"
         },
         {
          "align": "left",
          "font": {
           "color": "#ffffff"
          },
          "showarrow": false,
          "text": "<b>avg_std</b>",
          "x": 0.55,
          "xanchor": "left",
          "xref": "x",
          "y": 0,
          "yref": "y"
         },
         {
          "align": "left",
          "font": {
           "color": "#000000"
          },
          "showarrow": false,
          "text": "Cosinor",
          "x": -0.45,
          "xanchor": "left",
          "xref": "x",
          "y": 1,
          "yref": "y"
         },
         {
          "align": "left",
          "font": {
           "color": "#000000"
          },
          "showarrow": false,
          "text": "0.0175542116626279",
          "x": 0.55,
          "xanchor": "left",
          "xref": "x",
          "y": 1,
          "yref": "y"
         },
         {
          "align": "left",
          "font": {
           "color": "#000000"
          },
          "showarrow": false,
          "text": "Rain",
          "x": -0.45,
          "xanchor": "left",
          "xref": "x",
          "y": 2,
          "yref": "y"
         },
         {
          "align": "left",
          "font": {
           "color": "#000000"
          },
          "showarrow": false,
          "text": "0.05450596159418599",
          "x": 0.55,
          "xanchor": "left",
          "xref": "x",
          "y": 2,
          "yref": "y"
         },
         {
          "align": "left",
          "font": {
           "color": "#000000"
          },
          "showarrow": false,
          "text": "ARS",
          "x": -0.45,
          "xanchor": "left",
          "xref": "x",
          "y": 3,
          "yref": "y"
         },
         {
          "align": "left",
          "font": {
           "color": "#000000"
          },
          "showarrow": false,
          "text": "0.08503743701133482",
          "x": 0.55,
          "xanchor": "left",
          "xref": "x",
          "y": 3,
          "yref": "y"
         },
         {
          "align": "left",
          "font": {
           "color": "#000000"
          },
          "showarrow": false,
          "text": "meta2d",
          "x": -0.45,
          "xanchor": "left",
          "xref": "x",
          "y": 4,
          "yref": "y"
         },
         {
          "align": "left",
          "font": {
           "color": "#000000"
          },
          "showarrow": false,
          "text": "0.10451044341836976",
          "x": 0.55,
          "xanchor": "left",
          "xref": "x",
          "y": 4,
          "yref": "y"
         },
         {
          "align": "left",
          "font": {
           "color": "#000000"
          },
          "showarrow": false,
          "text": "JTK",
          "x": -0.45,
          "xanchor": "left",
          "xref": "x",
          "y": 5,
          "yref": "y"
         },
         {
          "align": "left",
          "font": {
           "color": "#000000"
          },
          "showarrow": false,
          "text": "0.15357791233868123",
          "x": 0.55,
          "xanchor": "left",
          "xref": "x",
          "y": 5,
          "yref": "y"
         },
         {
          "align": "left",
          "font": {
           "color": "#000000"
          },
          "showarrow": false,
          "text": "LS",
          "x": -0.45,
          "xanchor": "left",
          "xref": "x",
          "y": 6,
          "yref": "y"
         },
         {
          "align": "left",
          "font": {
           "color": "#000000"
          },
          "showarrow": false,
          "text": "0.22097409445253352",
          "x": 0.55,
          "xanchor": "left",
          "xref": "x",
          "y": 6,
          "yref": "y"
         }
        ],
        "height": 300,
        "margin": {
         "b": 0,
         "l": 0,
         "r": 0,
         "t": 0
        },
        "template": {
         "data": {
          "bar": [
           {
            "error_x": {
             "color": "#2a3f5f"
            },
            "error_y": {
             "color": "#2a3f5f"
            },
            "marker": {
             "line": {
              "color": "#E5ECF6",
              "width": 0.5
             },
             "pattern": {
              "fillmode": "overlay",
              "size": 10,
              "solidity": 0.2
             }
            },
            "type": "bar"
           }
          ],
          "barpolar": [
           {
            "marker": {
             "line": {
              "color": "#E5ECF6",
              "width": 0.5
             },
             "pattern": {
              "fillmode": "overlay",
              "size": 10,
              "solidity": 0.2
             }
            },
            "type": "barpolar"
           }
          ],
          "carpet": [
           {
            "aaxis": {
             "endlinecolor": "#2a3f5f",
             "gridcolor": "white",
             "linecolor": "white",
             "minorgridcolor": "white",
             "startlinecolor": "#2a3f5f"
            },
            "baxis": {
             "endlinecolor": "#2a3f5f",
             "gridcolor": "white",
             "linecolor": "white",
             "minorgridcolor": "white",
             "startlinecolor": "#2a3f5f"
            },
            "type": "carpet"
           }
          ],
          "choropleth": [
           {
            "colorbar": {
             "outlinewidth": 0,
             "ticks": ""
            },
            "type": "choropleth"
           }
          ],
          "contour": [
           {
            "colorbar": {
             "outlinewidth": 0,
             "ticks": ""
            },
            "colorscale": [
             [
              0,
              "#0d0887"
             ],
             [
              0.1111111111111111,
              "#46039f"
             ],
             [
              0.2222222222222222,
              "#7201a8"
             ],
             [
              0.3333333333333333,
              "#9c179e"
             ],
             [
              0.4444444444444444,
              "#bd3786"
             ],
             [
              0.5555555555555556,
              "#d8576b"
             ],
             [
              0.6666666666666666,
              "#ed7953"
             ],
             [
              0.7777777777777778,
              "#fb9f3a"
             ],
             [
              0.8888888888888888,
              "#fdca26"
             ],
             [
              1,
              "#f0f921"
             ]
            ],
            "type": "contour"
           }
          ],
          "contourcarpet": [
           {
            "colorbar": {
             "outlinewidth": 0,
             "ticks": ""
            },
            "type": "contourcarpet"
           }
          ],
          "heatmap": [
           {
            "colorbar": {
             "outlinewidth": 0,
             "ticks": ""
            },
            "colorscale": [
             [
              0,
              "#0d0887"
             ],
             [
              0.1111111111111111,
              "#46039f"
             ],
             [
              0.2222222222222222,
              "#7201a8"
             ],
             [
              0.3333333333333333,
              "#9c179e"
             ],
             [
              0.4444444444444444,
              "#bd3786"
             ],
             [
              0.5555555555555556,
              "#d8576b"
             ],
             [
              0.6666666666666666,
              "#ed7953"
             ],
             [
              0.7777777777777778,
              "#fb9f3a"
             ],
             [
              0.8888888888888888,
              "#fdca26"
             ],
             [
              1,
              "#f0f921"
             ]
            ],
            "type": "heatmap"
           }
          ],
          "heatmapgl": [
           {
            "colorbar": {
             "outlinewidth": 0,
             "ticks": ""
            },
            "colorscale": [
             [
              0,
              "#0d0887"
             ],
             [
              0.1111111111111111,
              "#46039f"
             ],
             [
              0.2222222222222222,
              "#7201a8"
             ],
             [
              0.3333333333333333,
              "#9c179e"
             ],
             [
              0.4444444444444444,
              "#bd3786"
             ],
             [
              0.5555555555555556,
              "#d8576b"
             ],
             [
              0.6666666666666666,
              "#ed7953"
             ],
             [
              0.7777777777777778,
              "#fb9f3a"
             ],
             [
              0.8888888888888888,
              "#fdca26"
             ],
             [
              1,
              "#f0f921"
             ]
            ],
            "type": "heatmapgl"
           }
          ],
          "histogram": [
           {
            "marker": {
             "pattern": {
              "fillmode": "overlay",
              "size": 10,
              "solidity": 0.2
             }
            },
            "type": "histogram"
           }
          ],
          "histogram2d": [
           {
            "colorbar": {
             "outlinewidth": 0,
             "ticks": ""
            },
            "colorscale": [
             [
              0,
              "#0d0887"
             ],
             [
              0.1111111111111111,
              "#46039f"
             ],
             [
              0.2222222222222222,
              "#7201a8"
             ],
             [
              0.3333333333333333,
              "#9c179e"
             ],
             [
              0.4444444444444444,
              "#bd3786"
             ],
             [
              0.5555555555555556,
              "#d8576b"
             ],
             [
              0.6666666666666666,
              "#ed7953"
             ],
             [
              0.7777777777777778,
              "#fb9f3a"
             ],
             [
              0.8888888888888888,
              "#fdca26"
             ],
             [
              1,
              "#f0f921"
             ]
            ],
            "type": "histogram2d"
           }
          ],
          "histogram2dcontour": [
           {
            "colorbar": {
             "outlinewidth": 0,
             "ticks": ""
            },
            "colorscale": [
             [
              0,
              "#0d0887"
             ],
             [
              0.1111111111111111,
              "#46039f"
             ],
             [
              0.2222222222222222,
              "#7201a8"
             ],
             [
              0.3333333333333333,
              "#9c179e"
             ],
             [
              0.4444444444444444,
              "#bd3786"
             ],
             [
              0.5555555555555556,
              "#d8576b"
             ],
             [
              0.6666666666666666,
              "#ed7953"
             ],
             [
              0.7777777777777778,
              "#fb9f3a"
             ],
             [
              0.8888888888888888,
              "#fdca26"
             ],
             [
              1,
              "#f0f921"
             ]
            ],
            "type": "histogram2dcontour"
           }
          ],
          "mesh3d": [
           {
            "colorbar": {
             "outlinewidth": 0,
             "ticks": ""
            },
            "type": "mesh3d"
           }
          ],
          "parcoords": [
           {
            "line": {
             "colorbar": {
              "outlinewidth": 0,
              "ticks": ""
             }
            },
            "type": "parcoords"
           }
          ],
          "pie": [
           {
            "automargin": true,
            "type": "pie"
           }
          ],
          "scatter": [
           {
            "fillpattern": {
             "fillmode": "overlay",
             "size": 10,
             "solidity": 0.2
            },
            "type": "scatter"
           }
          ],
          "scatter3d": [
           {
            "line": {
             "colorbar": {
              "outlinewidth": 0,
              "ticks": ""
             }
            },
            "marker": {
             "colorbar": {
              "outlinewidth": 0,
              "ticks": ""
             }
            },
            "type": "scatter3d"
           }
          ],
          "scattercarpet": [
           {
            "marker": {
             "colorbar": {
              "outlinewidth": 0,
              "ticks": ""
             }
            },
            "type": "scattercarpet"
           }
          ],
          "scattergeo": [
           {
            "marker": {
             "colorbar": {
              "outlinewidth": 0,
              "ticks": ""
             }
            },
            "type": "scattergeo"
           }
          ],
          "scattergl": [
           {
            "marker": {
             "colorbar": {
              "outlinewidth": 0,
              "ticks": ""
             }
            },
            "type": "scattergl"
           }
          ],
          "scattermapbox": [
           {
            "marker": {
             "colorbar": {
              "outlinewidth": 0,
              "ticks": ""
             }
            },
            "type": "scattermapbox"
           }
          ],
          "scatterpolar": [
           {
            "marker": {
             "colorbar": {
              "outlinewidth": 0,
              "ticks": ""
             }
            },
            "type": "scatterpolar"
           }
          ],
          "scatterpolargl": [
           {
            "marker": {
             "colorbar": {
              "outlinewidth": 0,
              "ticks": ""
             }
            },
            "type": "scatterpolargl"
           }
          ],
          "scatterternary": [
           {
            "marker": {
             "colorbar": {
              "outlinewidth": 0,
              "ticks": ""
             }
            },
            "type": "scatterternary"
           }
          ],
          "surface": [
           {
            "colorbar": {
             "outlinewidth": 0,
             "ticks": ""
            },
            "colorscale": [
             [
              0,
              "#0d0887"
             ],
             [
              0.1111111111111111,
              "#46039f"
             ],
             [
              0.2222222222222222,
              "#7201a8"
             ],
             [
              0.3333333333333333,
              "#9c179e"
             ],
             [
              0.4444444444444444,
              "#bd3786"
             ],
             [
              0.5555555555555556,
              "#d8576b"
             ],
             [
              0.6666666666666666,
              "#ed7953"
             ],
             [
              0.7777777777777778,
              "#fb9f3a"
             ],
             [
              0.8888888888888888,
              "#fdca26"
             ],
             [
              1,
              "#f0f921"
             ]
            ],
            "type": "surface"
           }
          ],
          "table": [
           {
            "cells": {
             "fill": {
              "color": "#EBF0F8"
             },
             "line": {
              "color": "white"
             }
            },
            "header": {
             "fill": {
              "color": "#C8D4E3"
             },
             "line": {
              "color": "white"
             }
            },
            "type": "table"
           }
          ]
         },
         "layout": {
          "annotationdefaults": {
           "arrowcolor": "#2a3f5f",
           "arrowhead": 0,
           "arrowwidth": 1
          },
          "autotypenumbers": "strict",
          "coloraxis": {
           "colorbar": {
            "outlinewidth": 0,
            "ticks": ""
           }
          },
          "colorscale": {
           "diverging": [
            [
             0,
             "#8e0152"
            ],
            [
             0.1,
             "#c51b7d"
            ],
            [
             0.2,
             "#de77ae"
            ],
            [
             0.3,
             "#f1b6da"
            ],
            [
             0.4,
             "#fde0ef"
            ],
            [
             0.5,
             "#f7f7f7"
            ],
            [
             0.6,
             "#e6f5d0"
            ],
            [
             0.7,
             "#b8e186"
            ],
            [
             0.8,
             "#7fbc41"
            ],
            [
             0.9,
             "#4d9221"
            ],
            [
             1,
             "#276419"
            ]
           ],
           "sequential": [
            [
             0,
             "#0d0887"
            ],
            [
             0.1111111111111111,
             "#46039f"
            ],
            [
             0.2222222222222222,
             "#7201a8"
            ],
            [
             0.3333333333333333,
             "#9c179e"
            ],
            [
             0.4444444444444444,
             "#bd3786"
            ],
            [
             0.5555555555555556,
             "#d8576b"
            ],
            [
             0.6666666666666666,
             "#ed7953"
            ],
            [
             0.7777777777777778,
             "#fb9f3a"
            ],
            [
             0.8888888888888888,
             "#fdca26"
            ],
            [
             1,
             "#f0f921"
            ]
           ],
           "sequentialminus": [
            [
             0,
             "#0d0887"
            ],
            [
             0.1111111111111111,
             "#46039f"
            ],
            [
             0.2222222222222222,
             "#7201a8"
            ],
            [
             0.3333333333333333,
             "#9c179e"
            ],
            [
             0.4444444444444444,
             "#bd3786"
            ],
            [
             0.5555555555555556,
             "#d8576b"
            ],
            [
             0.6666666666666666,
             "#ed7953"
            ],
            [
             0.7777777777777778,
             "#fb9f3a"
            ],
            [
             0.8888888888888888,
             "#fdca26"
            ],
            [
             1,
             "#f0f921"
            ]
           ]
          },
          "colorway": [
           "#636efa",
           "#EF553B",
           "#00cc96",
           "#ab63fa",
           "#FFA15A",
           "#19d3f3",
           "#FF6692",
           "#B6E880",
           "#FF97FF",
           "#FECB52"
          ],
          "font": {
           "color": "#2a3f5f"
          },
          "geo": {
           "bgcolor": "white",
           "lakecolor": "white",
           "landcolor": "#E5ECF6",
           "showlakes": true,
           "showland": true,
           "subunitcolor": "white"
          },
          "hoverlabel": {
           "align": "left"
          },
          "hovermode": "closest",
          "mapbox": {
           "style": "light"
          },
          "paper_bgcolor": "white",
          "plot_bgcolor": "#E5ECF6",
          "polar": {
           "angularaxis": {
            "gridcolor": "white",
            "linecolor": "white",
            "ticks": ""
           },
           "bgcolor": "#E5ECF6",
           "radialaxis": {
            "gridcolor": "white",
            "linecolor": "white",
            "ticks": ""
           }
          },
          "scene": {
           "xaxis": {
            "backgroundcolor": "#E5ECF6",
            "gridcolor": "white",
            "gridwidth": 2,
            "linecolor": "white",
            "showbackground": true,
            "ticks": "",
            "zerolinecolor": "white"
           },
           "yaxis": {
            "backgroundcolor": "#E5ECF6",
            "gridcolor": "white",
            "gridwidth": 2,
            "linecolor": "white",
            "showbackground": true,
            "ticks": "",
            "zerolinecolor": "white"
           },
           "zaxis": {
            "backgroundcolor": "#E5ECF6",
            "gridcolor": "white",
            "gridwidth": 2,
            "linecolor": "white",
            "showbackground": true,
            "ticks": "",
            "zerolinecolor": "white"
           }
          },
          "shapedefaults": {
           "line": {
            "color": "#2a3f5f"
           }
          },
          "ternary": {
           "aaxis": {
            "gridcolor": "white",
            "linecolor": "white",
            "ticks": ""
           },
           "baxis": {
            "gridcolor": "white",
            "linecolor": "white",
            "ticks": ""
           },
           "bgcolor": "#E5ECF6",
           "caxis": {
            "gridcolor": "white",
            "linecolor": "white",
            "ticks": ""
           }
          },
          "title": {
           "x": 0.05
          },
          "xaxis": {
           "automargin": true,
           "gridcolor": "white",
           "linecolor": "white",
           "ticks": "",
           "title": {
            "standoff": 15
           },
           "zerolinecolor": "white",
           "zerolinewidth": 2
          },
          "yaxis": {
           "automargin": true,
           "gridcolor": "white",
           "linecolor": "white",
           "ticks": "",
           "title": {
            "standoff": 15
           },
           "zerolinecolor": "white",
           "zerolinewidth": 2
          }
         }
        },
        "width": 500,
        "xaxis": {
         "dtick": 1,
         "gridwidth": 2,
         "showticklabels": false,
         "tick0": -0.5,
         "ticks": "",
         "zeroline": false
        },
        "yaxis": {
         "autorange": "reversed",
         "dtick": 1,
         "gridwidth": 2,
         "showticklabels": false,
         "tick0": 0.5,
         "ticks": "",
         "zeroline": false
        }
       }
      }
     },
     "metadata": {},
     "output_type": "display_data"
    }
   ],
   "source": [
    "#global std\n",
    "import pandas as pd\n",
    "import numpy as np\n",
    "import plotly.figure_factory as ff\n",
    "df_after_ind= pd.DataFrame()\n",
    "for i in [1,2,3]:\n",
    "    for j in [1,2,3]:\n",
    "        filename=f\"c{i}_n0{3*j}.csv\"\n",
    "        df_after = pd.read_csv(f\"Out/{filename[:-4]}/metrics_{filename[:-4]}.csv\")\n",
    "        df_after['filename']=filename\n",
    "        df_after_ind =pd.concat([df_after_ind,df_after])\n",
    "models = ['ARS','JTK','LS','meta2d','Cosinor','Rain']\n",
    "metrics = [\"precision\", \"f1\", \"recall\", \"accuracy\", \"auc\"]\n",
    "df = pd.DataFrame(columns = ['model','avg_std'], dtype=float)\n",
    "for model in models:\n",
    "    res=[]\n",
    "    for metric in metrics:\n",
    "        std = df_after_ind[df_after_ind['model']==model][metric].std()\n",
    "        res.append(std)\n",
    "        #print(model,metric,std°\n",
    "    #print(res)\n",
    "    df =df.append({'model':model,'avg_std': np.array(res).mean()}, ignore_index=True)\n",
    "fig1 = ff.create_table(df.sort_values(by='avg_std'))\n",
    "fig1.update_layout(width=500, height=300)\n",
    "fig1.show()"
   ]
  },
  {
   "cell_type": "code",
   "execution_count": null,
   "metadata": {},
   "outputs": [],
   "source": [
    "#std fixed number of components\n",
    "import pandas as pd\n",
    "import numpy as np\n",
    "import plotly.figure_factory as ff\n",
    "for i in [1,2,3]:\n",
    "    df_after_ind= pd.DataFrame()\n",
    "    df = pd.DataFrame(columns = ['model'], dtype=float)\n",
    "    for j in [1,2,3]:\n",
    "        filename=f\"c{i}_n0{3*j}.csv\"\n",
    "        df_after = pd.read_csv(f\"Out/{filename[:-4]}/metrics_{filename[:-4]}.csv\")\n",
    "        df_after['filename']=filename\n",
    "        df_after_ind =pd.concat([df_after_ind,df_after])\n",
    "    models = ['ARS','JTK','LS','meta2d','Cosinor','Rain']\n",
    "    metrics = [\"precision\", \"f1\", \"recall\", \"accuracy\", \"auc\"]\n",
    "    df = pd.DataFrame(columns = ['model'], dtype=float)\n",
    "    #print(df_after_ind)\n",
    "    for model in models:\n",
    "        res=[]\n",
    "        for metric in metrics:\n",
    "            std = df_after_ind[df_after_ind['model']==model][metric].std()\n",
    "            res.append(std)\n",
    "            #print(model,metric,std)\n",
    "        df =df.append({'model':model,f'avg_std_c{i}': np.array(res).mean()}, ignore_index=True)\n",
    "    fig1 = ff.create_table(df.sort_values(by=f'avg_std_c{i}'))\n",
    "    fig1.update_layout(width=1000, height=300)\n",
    "    fig1.show()"
   ]
  },
  {
   "cell_type": "code",
   "execution_count": null,
   "metadata": {},
   "outputs": [],
   "source": [
    "#std fixed noise\n",
    "import pandas as pd\n",
    "import numpy as np\n",
    "import plotly.figure_factory as ff\n",
    "\n",
    "for j in [1,2,3]:\n",
    "    df_after_ind= pd.DataFrame()\n",
    "    df = pd.DataFrame(columns = ['model'], dtype=float)\n",
    "    for i in [1,2,3]:\n",
    "        filename=f\"c{i}_n0{3*j}.csv\"\n",
    "        df_after = pd.read_csv(f\"Out/{filename[:-4]}/metrics_{filename[:-4]}.csv\")\n",
    "        df_after['filename']=filename\n",
    "        df_after_ind =pd.concat([df_after_ind,df_after])\n",
    "    models = ['ARS','JTK','LS','meta2d','Cosinor','Rain']\n",
    "    metrics = [\"precision\", \"f1\", \"recall\", \"accuracy\", \"auc\"]\n",
    "    df = pd.DataFrame(columns = ['model'], dtype=float)\n",
    "    #print(df_after_ind)\n",
    "    for model in models:\n",
    "        res=[]\n",
    "        for metric in metrics:\n",
    "            std = df_after_ind[df_after_ind['model']==model][metric].std()\n",
    "            res.append(std)\n",
    "            #print(model,metric,std)\n",
    "        df =df.append({'model':model,f'avg_std_n0{3*j}': np.array(res).mean()}, ignore_index=True)\n",
    "    fig1 = ff.create_table(df.sort_values(by=f'avg_std_n0{3*j}'))\n",
    "    fig1.update_layout(width=1000, height=300)\n",
    "    fig1.show()"
   ]
  }
 ],
 "metadata": {
  "interpreter": {
   "hash": "767c48a64caae0be89fa7f8f777746ad491056046165076895ba67746a6851de"
  },
  "kernelspec": {
   "display_name": "Python 3.10.4 64-bit",
   "language": "python",
   "name": "python3"
  },
  "language_info": {
   "codemirror_mode": {
    "name": "ipython",
    "version": 3
   },
   "file_extension": ".py",
   "mimetype": "text/x-python",
   "name": "python",
   "nbconvert_exporter": "python",
   "pygments_lexer": "ipython3",
   "version": "3.10.4"
  },
  "orig_nbformat": 4
 },
 "nbformat": 4,
 "nbformat_minor": 2
}
