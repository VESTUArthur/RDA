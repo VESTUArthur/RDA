{
 "cells": [
  {
   "cell_type": "markdown",
   "metadata": {},
   "source": [
    "# Testing Results"
   ]
  },
  {
   "cell_type": "code",
   "execution_count": null,
   "metadata": {},
   "outputs": [],
   "source": [
    "from rda_package import rda \n",
    "import pandas as pd\n",
    "import numpy as np\n",
    "import re\n",
    "import random\n",
    "from sklearn.preprocessing import Binarizer"
   ]
  },
  {
   "cell_type": "code",
   "execution_count": null,
   "metadata": {},
   "outputs": [],
   "source": [
    "FILENAME='test_sRhD_c1_n08.csv'\n",
    "df_c1_n08 = rda.string_metrics(FILENAME,y_value=1)\n",
    "FILENAME='test_sRnD'\n",
    "df_c1_n08 = rda.string_metrics(FILENAME,y_value=1)"
   ]
  },
  {
   "cell_type": "code",
   "execution_count": null,
   "metadata": {},
   "outputs": [],
   "source": []
  },
  {
   "cell_type": "markdown",
   "metadata": {},
   "source": [
    "## Load data"
   ]
  },
  {
   "cell_type": "code",
   "execution_count": null,
   "metadata": {},
   "outputs": [],
   "source": [
    "FILENAME='test_sRhD_c1_n02.csv'\n",
    "df_c1_n02 = rda.string_metrics(FILENAME,y_value=1)\n",
    "FILENAME='test_sRhD_c1_n05.csv'\n",
    "df_c1_n05 = rda.string_metrics(FILENAME,y_value=1)\n",
    "FILENAME='test_sRhD_c1_n08.csv'\n",
    "df_c1_n08 = rda.string_metrics(FILENAME,y_value=1)"
   ]
  },
  {
   "cell_type": "code",
   "execution_count": null,
   "metadata": {},
   "outputs": [],
   "source": [
    "FILENAME='test_sRhD_c2_n02.csv'\n",
    "df_c2_n02 = rda.pValuesOut(FILENAME)\n",
    "FILENAME='test_sRhD_c2_n05.csv'\n",
    "df_c2_n05 = rda.pValuesOut(FILENAME)\n",
    "FILENAME='test_sRhD_c2_n08.csv'\n",
    "df_c2_n08 = rda.pValuesOut(FILENAME)"
   ]
  },
  {
   "cell_type": "code",
   "execution_count": null,
   "metadata": {},
   "outputs": [],
   "source": [
    "FILENAME='test_sRhD_c3_n02.csv'\n",
    "df_c3_n02 = rda.pValuesOut(FILENAME)\n",
    "FILENAME='test_sRhD_c3_n05.csv'\n",
    "df_c3_n05 = rda.pValuesOut(FILENAME)\n",
    "FILENAME='test_sRhD_c3_n08.csv'\n",
    "df_c3_n08 = rda.string_metrics(FILENAME,y_value=1)"
   ]
  },
  {
   "cell_type": "code",
   "execution_count": null,
   "metadata": {},
   "outputs": [],
   "source": []
  }
 ],
 "metadata": {
  "interpreter": {
   "hash": "767c48a64caae0be89fa7f8f777746ad491056046165076895ba67746a6851de"
  },
  "kernelspec": {
   "display_name": "Python 3.10.4 64-bit",
   "language": "python",
   "name": "python3"
  },
  "language_info": {
   "codemirror_mode": {
    "name": "ipython",
    "version": 3
   },
   "file_extension": ".py",
   "mimetype": "text/x-python",
   "name": "python",
   "nbconvert_exporter": "python",
   "pygments_lexer": "ipython3",
   "version": "3.10.4"
  },
  "orig_nbformat": 4
 },
 "nbformat": 4,
 "nbformat_minor": 2
}
